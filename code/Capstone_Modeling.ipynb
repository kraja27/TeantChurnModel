{
 "cells": [
  {
   "cell_type": "markdown",
   "metadata": {},
   "source": [
    "__Tenant Churn Model to predict the tenant turnover with the past data__\n",
    "\n",
    "- By: [Kathirvel Kumararaja]()"
   ]
  },
  {
   "cell_type": "markdown",
   "metadata": {},
   "source": [
    "# Problem Statement"
   ]
  },
  {
   "cell_type": "markdown",
   "metadata": {},
   "source": [
    "![title](../assets/churn.jpeg)  \n",
    "\n",
    "\n",
    "Tenant Churn or Tenant turnover is one of the challenges if you are managing multiple properties with diversified tenants. Modeling tenant churn is a classical application of data science. To put in a simple language a churn model is a classification model that given a set of predictors, or input variables, predicts the status of a tenant. Our churn model will predict, if a tenant rents a unit, the probability that tenant is a churned or a non churned tenant. Armed with this knowledge a property manager can better understand how the tenant mix will change over time and which units are likely to become available soon. This will enable managers to proactively target the high churn candidates and provide incentives for them to extend their contract. In addition, the model can highlight which units likely will need to be filled in the future, so that the vacancy period of a unit can be reduced. The __data we are using for this modeling is anonymized with all the personal info removed__ to protect the privacy of the tenants. \n",
    "\n",
    "- This is a classsification model.\n",
    "\n",
    "- We will be evaluating our model based on __Accuracy.__ "
   ]
  },
  {
   "cell_type": "markdown",
   "metadata": {},
   "source": [
    "# Executive Summary"
   ]
  },
  {
   "cell_type": "markdown",
   "metadata": {},
   "source": [
    "Various indusrties define Churn slightly differently. It also varies by each organization or product. Generally, the customers who stop using a product or service for a given period of time are referred to as churners. As a result, churn is one of the most important elements in the Key Performance Indicator (KPI) of a product or service. A full customer lifecycle analysis requires taking a look at retention rates in order to better understand the health of the business or product. \n",
    "\n",
    "Our model attempted to find churn rate for Residential tenants. To address the challenge of finding the comprehensive data for our modeling, our first strategy is to finalize a good source of data which will help us in understanding the tenant Move-In Move-out behavior. While most of us think that Residential and Commercial rentals have mostly to do with capital investment the actual profit that a typical Property Manager makes is just between 8% to 9%. \n",
    "\n",
    "\n",
    "Another challenge we were having was getting enough data. Our target was close to 2000 records from a Property Management System. After getting approval from my client I have exported the Resident History information. The information was kept in a MS SQL Server database. I developed a report using Crystal report to filter the required data.   \n",
    "\n",
    "After extracting the data next decision we had to make was what column or columns needs to be my X. Majority of the columns were date based. Initially I was inclined to use all the date columns in a Time series model. But after reviewing business objective I deicided to use classification model that will determine whether a tenant is churned or current. \n",
    "\n",
    "EDA helped me set up a preprocessing plan for our model. For preprocessing, I had created a function that removed spaces and thousand separators. For modeling I have five different models. \n",
    " \n",
    "Machines had no problem understanding the data, after I engineered features that reflected the business needs."
   ]
  },
  {
   "cell_type": "markdown",
   "metadata": {},
   "source": [
    "__Data Dictionary__"
   ]
  },
  {
   "cell_type": "markdown",
   "metadata": {},
   "source": [
    "|Tenant Traffic|Type|Dataset|Description|\n",
    "|---|---|---|---|\n",
    "|Unit|float|Tenant_traffic|This field represents Unique identification of rental units| \n",
    "|Tcode|int|Tenant_traffic|Represent the read/write score| \n",
    "|Rent|int|Tenant_traffic|This field represent the Rent of the Unit| \n",
    "|Base|int|Tenant_traffic|This field represent the Mean Late fee calculation condition| \n",
    "|Criteria|float|Tenant_traffic|This field represent the % of participation| \n",
    "|Grace_Period|int|Tenant_traffic|Represent the read/write score| \n",
    "|Legal_Rent|int|Tenant_traffic|This field represent the Legal Rent a Tenant can collect| \n",
    "|Deposit|int|Tenant_traffic|This field represent the Deposit held by the landlord| \n",
    "|From|float|Tenant_traffic|This field represent the Lease Starting Month| \n",
    "|To|int|Tenant_traffic|Represent the the Lease Ending Month| \n",
    "|Move_In|int|Tenant_traffic|This field represent the Date Tenant Moved In| \n",
    "|Move_Out|int|Tenant_traffic|This field represent the Date Tenant Moved Out| \n",
    "|Months_Occupied|int|Tenant_traffic|This field represent the number of months tenant| \n",
    "|Last_Renewal|int|Tenant_traffic|This field represent the Last Renewal date| \n",
    "|Tenant_Status|float|Tenant_traffic|This field represent the status Current or Pat| \n",
    "|Roommates-Y|int|Tenant_traffic|Represent the read/write score| \n",
    "|ACH-Y|int|Tenant_traffic|This field signed up for ACH payments| "
   ]
  },
  {
   "cell_type": "code",
   "execution_count": 1,
   "metadata": {},
   "outputs": [
    {
     "name": "stderr",
     "output_type": "stream",
     "text": [
      "/Users/kraja/anaconda3/lib/python3.7/site-packages/statsmodels/tools/_testing.py:19: FutureWarning: pandas.util.testing is deprecated. Use the functions in the public API at pandas.testing instead.\n",
      "  import pandas.util.testing as tm\n",
      "/Users/kraja/anaconda3/lib/python3.7/site-packages/statsmodels/compat/pandas.py:23: FutureWarning: The Panel class is removed from pandas. Accessing it from the top-level namespace will also be removed in the next version\n",
      "  data_klasses = (pandas.Series, pandas.DataFrame, pandas.Panel)\n",
      "Using TensorFlow backend.\n"
     ]
    }
   ],
   "source": [
    "import numpy as np\n",
    "import pandas as pd\n",
    "import datetime as dt\n",
    "import time\n",
    "import requests\n",
    "\n",
    "import seaborn as sns\n",
    "import matplotlib.pyplot as plt\n",
    "\n",
    "from sklearn.metrics import confusion_matrix\n",
    "import matplotlib.pyplot as plt\n",
    "import seaborn as sns\n",
    "from sklearn.model_selection import cross_val_score, train_test_split, GridSearchCV\n",
    "from sklearn.linear_model import LogisticRegression\n",
    "from sklearn.neighbors import KNeighborsClassifier\n",
    "from sklearn.ensemble import BaggingClassifier, RandomForestClassifier, ExtraTreesClassifier\n",
    "from sklearn.tree import DecisionTreeClassifier\n",
    "from sklearn.metrics import confusion_matrix, roc_auc_score\n",
    "from sklearn.preprocessing import StandardScaler, MinMaxScaler\n",
    "from sklearn.linear_model import LinearRegression, RidgeCV, LassoCV, Lasso, ElasticNetCV\n",
    "from sklearn.pipeline import Pipeline\n",
    "from sklearn.datasets import make_classification\n",
    "\n",
    "#importing stats model for GLM\n",
    "import statsmodels.api as sm\n",
    "from sklearn.datasets import make_regression, make_multilabel_classification\n",
    "\n",
    "%matplotlib inline\n",
    "\n",
    "from keras.models import Sequential\n",
    "from keras.layers import Dense\n",
    "import warnings\n",
    "warnings.filterwarnings('ignore')\n",
    "\n",
    "# For reproducibility\n",
    "RANDOM_STATE = 42\n",
    "np.random.seed(RANDOM_STATE)\n",
    "\n",
    "#import pickles\n",
    "import pickle"
   ]
  },
  {
   "cell_type": "code",
   "execution_count": 2,
   "metadata": {},
   "outputs": [],
   "source": [
    "#Read the data for resident info\n",
    "df = pd.read_csv(\"../datasets/TenantInfo_CapStnRev1.csv\", keep_default_na=False, na_values='')"
   ]
  },
  {
   "cell_type": "code",
   "execution_count": 3,
   "metadata": {},
   "outputs": [],
   "source": [
    "# Creating data frame with past tenants.\n",
    "df_past = df[df['Tenant_Status'] == 'Past']"
   ]
  },
  {
   "cell_type": "code",
   "execution_count": 4,
   "metadata": {},
   "outputs": [],
   "source": [
    "# Creating data frame with current tenants.\n",
    "df_current = df[df['Tenant_Status'] == 'Current']"
   ]
  },
  {
   "cell_type": "code",
   "execution_count": 5,
   "metadata": {},
   "outputs": [
    {
     "data": {
      "text/plain": [
       "(2031, 17)"
      ]
     },
     "execution_count": 5,
     "metadata": {},
     "output_type": "execute_result"
    }
   ],
   "source": [
    "#Checking Shape of the Current tenant data frame\n",
    "df_current.shape"
   ]
  },
  {
   "cell_type": "markdown",
   "metadata": {},
   "source": [
    "- The Current tenantdata frame has 17 columns and 2031 rows of data."
   ]
  },
  {
   "cell_type": "code",
   "execution_count": 6,
   "metadata": {},
   "outputs": [
    {
     "data": {
      "text/plain": [
       "(1008, 17)"
      ]
     },
     "execution_count": 6,
     "metadata": {},
     "output_type": "execute_result"
    }
   ],
   "source": [
    "#Checking Shape of the Past tenant data frame\n",
    "df_past.shape"
   ]
  },
  {
   "cell_type": "markdown",
   "metadata": {},
   "source": [
    "- The Past tenant dataframe has 17 columns and 1008 rows of data."
   ]
  },
  {
   "cell_type": "code",
   "execution_count": 7,
   "metadata": {},
   "outputs": [],
   "source": [
    "# combining both the dataframes using concatenate\n",
    "combined_df = pd.concat(objs = [df_past, df_current],\n",
    "                    axis = 0)"
   ]
  },
  {
   "cell_type": "code",
   "execution_count": 8,
   "metadata": {},
   "outputs": [
    {
     "data": {
      "text/plain": [
       "(3039, 17)"
      ]
     },
     "execution_count": 8,
     "metadata": {},
     "output_type": "execute_result"
    }
   ],
   "source": [
    "#Checking Shape of the Combined tenant data frame\n",
    "combined_df.shape"
   ]
  },
  {
   "cell_type": "markdown",
   "metadata": {},
   "source": [
    "- The combined dataframe has 17 columns and 3039 rows of data."
   ]
  },
  {
   "cell_type": "code",
   "execution_count": 9,
   "metadata": {},
   "outputs": [
    {
     "data": {
      "text/plain": [
       "Index(['Unit', 'TCode', 'Rent', 'Base', 'Criteria', 'Grace_Period',\n",
       "       'Legal_Rent', 'Deposit', 'From', 'To', 'Move_In', 'Move_Out',\n",
       "       'Months_Occupied', 'Last_Renewal', 'Tenant_Status', 'Roommates-Y',\n",
       "       'ACH-Y'],\n",
       "      dtype='object')"
      ]
     },
     "execution_count": 9,
     "metadata": {},
     "output_type": "execute_result"
    }
   ],
   "source": [
    "#Checking the Columns in the Combined Data Frame.\n",
    "combined_df.columns"
   ]
  },
  {
   "cell_type": "code",
   "execution_count": 10,
   "metadata": {},
   "outputs": [
    {
     "data": {
      "text/plain": [
       "Index(['Unit', 'TCode', 'Rent', 'Base', 'Criteria', 'Grace_Period',\n",
       "       'Legal_Rent', 'Deposit', 'From', 'To', 'Move_In', 'Move_Out',\n",
       "       'Months_Occupied', 'Last_Renewal', 'Tenant_Status', 'Roommates-Y',\n",
       "       'ACH-Y'],\n",
       "      dtype='object')"
      ]
     },
     "execution_count": 10,
     "metadata": {},
     "output_type": "execute_result"
    }
   ],
   "source": [
    "#Checking the Columns in the Past Tenant Data Frame.\n",
    "df_past.columns"
   ]
  },
  {
   "cell_type": "markdown",
   "metadata": {},
   "source": [
    "# Data Cleaning and EDA"
   ]
  },
  {
   "cell_type": "markdown",
   "metadata": {},
   "source": [
    "__We have two type of data.__ \n",
    "\n",
    " - Past tenant data :  pertaining to the tenants who already moved out of their residntial units.\n",
    " - Current tenant data: pertaining to the tenants who are still living in their residntial units."
   ]
  },
  {
   "cell_type": "code",
   "execution_count": 11,
   "metadata": {},
   "outputs": [
    {
     "data": {
      "text/plain": [
       "Text(0.5, 1.0, 'Missing Values - Tenant Traffic Data')"
      ]
     },
     "execution_count": 11,
     "metadata": {},
     "output_type": "execute_result"
    },
    {
     "data": {
      "image/png": "[encoded data removed]",
      "text/plain": [
       "<Figure size 1008x432 with 1 Axes>"
      ]
     },
     "metadata": {
      "needs_background": "light"
     },
     "output_type": "display_data"
    }
   ],
   "source": [
    "#Creating a Bar chart for the missing values\n",
    "plt.figure(figsize = (14, 6))\n",
    "df_past.isnull().sum().plot(kind='barh');\n",
    "plt.title('Missing Values - Tenant Traffic Data')"
   ]
  },
  {
   "cell_type": "markdown",
   "metadata": {},
   "source": [
    "__Missing Value Intrepretation__\n",
    "\n",
    "The above graph of missing value shows that the Last Renewal Date is empty. This is reasonable as these tenants have already moved out."
   ]
  },
  {
   "cell_type": "code",
   "execution_count": 12,
   "metadata": {},
   "outputs": [
    {
     "data": {
      "text/plain": [
       "Unit                object\n",
       "TCode               object\n",
       "Rent                object\n",
       "Base               float64\n",
       "Criteria            object\n",
       "Grace_Period       float64\n",
       "Legal_Rent          object\n",
       "Deposit             object\n",
       "From                object\n",
       "To                  object\n",
       "Move_In             object\n",
       "Move_Out            object\n",
       "Months_Occupied      int64\n",
       "Last_Renewal        object\n",
       "Tenant_Status       object\n",
       "Roommates-Y         object\n",
       "ACH-Y               object\n",
       "dtype: object"
      ]
     },
     "execution_count": 12,
     "metadata": {},
     "output_type": "execute_result"
    }
   ],
   "source": [
    "#checking the datatype of the imported data\n",
    "df_past.dtypes"
   ]
  },
  {
   "cell_type": "code",
   "execution_count": 13,
   "metadata": {},
   "outputs": [
    {
     "data": {
      "text/plain": [
       "0"
      ]
     },
     "execution_count": 13,
     "metadata": {},
     "output_type": "execute_result"
    }
   ],
   "source": [
    "combined_df['TCode'].isnull().sum()"
   ]
  },
  {
   "cell_type": "code",
   "execution_count": 14,
   "metadata": {},
   "outputs": [],
   "source": [
    "# Correcting the Data types of Date Fields.\n",
    "columns=['From', 'To', 'Move_In', 'Move_Out']\n",
    "for i in columns:\n",
    "    df_past[i]=pd.to_datetime(df_past[i])\n",
    "    combined_df[i]=pd.to_datetime(df_past[i])"
   ]
  },
  {
   "cell_type": "code",
   "execution_count": 15,
   "metadata": {},
   "outputs": [],
   "source": [
    "# Correcting the Data types from string to float in combined_df\n",
    "columns=['Rent', 'Legal_Rent']\n",
    "for i in columns:\n",
    "    combined_df[i]=combined_df[i].str.replace(',', '').astype(float)\n",
    "    df_past[i]=df_past[i].str.replace(',', '').astype(float)"
   ]
  },
  {
   "cell_type": "code",
   "execution_count": 16,
   "metadata": {},
   "outputs": [
    {
     "data": {
      "text/plain": [
       "10677"
      ]
     },
     "execution_count": 16,
     "metadata": {},
     "output_type": "execute_result"
    }
   ],
   "source": [
    "combined_df.isnull().sum().sum()"
   ]
  },
  {
   "cell_type": "code",
   "execution_count": 17,
   "metadata": {},
   "outputs": [],
   "source": [
    "combined_df.fillna(0, inplace=True)"
   ]
  },
  {
   "cell_type": "markdown",
   "metadata": {},
   "source": [
    "__Special Note:__\n",
    "\n",
    "There are few columns have 'Null' values in the Dataset. For example we have 'Rent' and 'Legal Rent' columns have no value. This is not a missing data. Many tenants are get assistance from the Government or Charity Agencies. So it is Normal to have Zeros in the Rent columns. Hence we will be filling '0' with all the empty fields."
   ]
  },
  {
   "cell_type": "code",
   "execution_count": 18,
   "metadata": {},
   "outputs": [
    {
     "data": {
      "text/plain": [
       "Current    2031\n",
       "Past       1008\n",
       "Name: Tenant_Status, dtype: int64"
      ]
     },
     "execution_count": 18,
     "metadata": {},
     "output_type": "execute_result"
    }
   ],
   "source": [
    "combined_df[\"Tenant_Status\"].value_counts()"
   ]
  },
  {
   "cell_type": "code",
   "execution_count": 19,
   "metadata": {},
   "outputs": [],
   "source": [
    "#Mapping if the tenants has Churned (Past)  to binary '1', '0'\n",
    "combined_df['Tenant_Status'] = df_past['Tenant_Status'].map({'Past':1, 'Current':0})"
   ]
  },
  {
   "cell_type": "code",
   "execution_count": 20,
   "metadata": {},
   "outputs": [],
   "source": [
    "#data cleaning and formating\n",
    "combined_df['Deposit'] = combined_df['Deposit'].str.replace('(', '-')"
   ]
  },
  {
   "cell_type": "code",
   "execution_count": 21,
   "metadata": {},
   "outputs": [],
   "source": [
    "#data cleaning and formating\n",
    "combined_df['Deposit'] = combined_df['Deposit'].str.replace(')', '')"
   ]
  },
  {
   "cell_type": "code",
   "execution_count": 22,
   "metadata": {},
   "outputs": [],
   "source": [
    "combined_df['Deposit'] = combined_df['Deposit'].str.replace(',', '').astype(float)"
   ]
  },
  {
   "cell_type": "code",
   "execution_count": 23,
   "metadata": {},
   "outputs": [],
   "source": [
    "df_past['Deposit'] = df_past['Deposit'].str.replace('(', '-')"
   ]
  },
  {
   "cell_type": "code",
   "execution_count": 24,
   "metadata": {},
   "outputs": [],
   "source": [
    "df_past['Deposit'] = df_past['Deposit'].str.replace(')', '')"
   ]
  },
  {
   "cell_type": "code",
   "execution_count": 25,
   "metadata": {},
   "outputs": [],
   "source": [
    "df_past['Deposit'] = df_past['Deposit'].str.replace(',', '').astype(float)"
   ]
  },
  {
   "cell_type": "code",
   "execution_count": 26,
   "metadata": {},
   "outputs": [],
   "source": [
    "# removing white spaces in the object type fields\n",
    "df_past = df_past.apply(lambda x: x.str.strip() if x.dtype == \"object\" else x)"
   ]
  },
  {
   "cell_type": "code",
   "execution_count": 27,
   "metadata": {},
   "outputs": [],
   "source": [
    "#Mapping the ACH tenants (string) to binary '1', '0'\n",
    "df_past['ACH-Y'] = df_past['ACH-Y'].map({'Y': 1, 'N': 0})"
   ]
  },
  {
   "cell_type": "code",
   "execution_count": 28,
   "metadata": {},
   "outputs": [],
   "source": [
    "#Mapping if the tenants has roomates (string) to binary '1', '0'\n",
    "df_past['Roommates-Y'] = df_past['Roommates-Y'].map({'Y':1, 'N':0})"
   ]
  },
  {
   "cell_type": "code",
   "execution_count": 29,
   "metadata": {},
   "outputs": [],
   "source": [
    "#Mapping the ACH tenants (string) to binary '1', '0'\n",
    "combined_df['ACH-Y'] = combined_df['ACH-Y'].map({'Y': 1, 'N': 0})"
   ]
  },
  {
   "cell_type": "code",
   "execution_count": 30,
   "metadata": {},
   "outputs": [],
   "source": [
    "#Mapping if the tenants has roomates (string) to binary '1', '0'\n",
    "combined_df['Roommates-Y'] = combined_df['Roommates-Y'].map({'Y':1, 'N':0})"
   ]
  },
  {
   "cell_type": "markdown",
   "metadata": {},
   "source": [
    "__Combined Dataframe data__"
   ]
  },
  {
   "cell_type": "code",
   "execution_count": 31,
   "metadata": {},
   "outputs": [
    {
     "data": {
      "text/plain": [
       "count    3039.000000\n",
       "mean       33.274761\n",
       "std        17.335264\n",
       "min         1.000000\n",
       "25%        18.000000\n",
       "50%        33.000000\n",
       "75%        49.000000\n",
       "max        63.000000\n",
       "Name: Months_Occupied, dtype: float64"
      ]
     },
     "execution_count": 31,
     "metadata": {},
     "output_type": "execute_result"
    }
   ],
   "source": [
    "combined_df['Months_Occupied'].describe()"
   ]
  },
  {
   "cell_type": "code",
   "execution_count": 32,
   "metadata": {},
   "outputs": [
    {
     "data": {
      "image/png": "[encoded data removed]",
      "text/plain": [
       "<Figure size 432x432 with 1 Axes>"
      ]
     },
     "metadata": {},
     "output_type": "display_data"
    }
   ],
   "source": [
    "# Plot to viewing the distribution of Months Occupied\n",
    "sns.set(rc={'figure.figsize':(6, 6)})\n",
    "sns.distplot(combined_df['Months_Occupied'],\n",
    "             kde= False,\n",
    "             axlabel='Months'\n",
    "            \n",
    "            ).set_title('Distribution of Months_Occupied');"
   ]
  },
  {
   "cell_type": "markdown",
   "metadata": {},
   "source": [
    "__Observation__:\n",
    "I noticed that a portion of tenants were having Zero amounts against rent. This is due to thefact that these tenants are getting assistance from the New York city agencies or other Charity Organizations. For the purpose of the modeling I have decided to keep these records in the dataset.\n",
    "\n",
    "The above Histogram also shows a variation in the tenant rents. This is due to the rentable items (Parking, Storage, etc )."
   ]
  },
  {
   "cell_type": "markdown",
   "metadata": {},
   "source": [
    "__Plotting the distribution of Legal Rent__"
   ]
  },
  {
   "cell_type": "code",
   "execution_count": 33,
   "metadata": {},
   "outputs": [
    {
     "data": {
      "image/png": "[encoded data removed]",
      "text/plain": [
       "<Figure size 432x432 with 1 Axes>"
      ]
     },
     "metadata": {},
     "output_type": "display_data"
    }
   ],
   "source": [
    "#Plot for seeing the Ditribution of Legal Rent.\n",
    "sns.set(rc={'figure.figsize':(6, 6)})\n",
    "sns.distplot(combined_df['Legal_Rent'],\n",
    "             kde= False,\n",
    "             axlabel='Amount'\n",
    "            \n",
    "            ).set_title('Distribution of Legal Rent');"
   ]
  },
  {
   "cell_type": "markdown",
   "metadata": {},
   "source": [
    "__Observation__:\n",
    "I noticed that a portion of tenants were having Zero amounts against rent. This is due to thefact that these tenants are getting assistance from the New York city agencies or other Charity Organizations. For the purpose of the modeling I have decided to keep these records in the dataset.\n",
    "\n",
    "The above Histogram also shows a variation in the tenant rents. This is due to the rentable items (Parking, Storage, etc )."
   ]
  },
  {
   "cell_type": "code",
   "execution_count": 34,
   "metadata": {},
   "outputs": [
    {
     "data": {
      "image/png": "[encoded data removed]",
      "text/plain": [
       "<Figure size 432x432 with 1 Axes>"
      ]
     },
     "metadata": {},
     "output_type": "display_data"
    }
   ],
   "source": [
    "#Plot for seeing the Ditribution of Rent.\n",
    "sns.set(rc={'figure.figsize':(6, 6)})\n",
    "sns.distplot(combined_df['Rent'],\n",
    "             kde= False,\n",
    "             axlabel='Amount'\n",
    "            \n",
    "            ).set_title('Distribution of Rent');"
   ]
  },
  {
   "cell_type": "markdown",
   "metadata": {},
   "source": [
    "__Observation__:\n",
    "I noticed that a portion of tenants were having Zero amounts against rent. This is due to thefact that these tenants are getting assistance from the New York city agencies or other Charity Organizations. For the purpose of the modeling I have decided to keep these records in the dataset.\n",
    "\n",
    "The above Histogram also shows a variation in the tenant rents. This is due to the rentable items (Parking, Storage, etc )."
   ]
  },
  {
   "cell_type": "markdown",
   "metadata": {},
   "source": [
    "__Understanding Daywise Moveout Traffic__"
   ]
  },
  {
   "cell_type": "markdown",
   "metadata": {},
   "source": [
    "__Daywise Move out traffic__"
   ]
  },
  {
   "cell_type": "code",
   "execution_count": 35,
   "metadata": {},
   "outputs": [
    {
     "data": {
      "text/plain": [
       "array([5, 1, 4, 2, 3, 0, 6])"
      ]
     },
     "execution_count": 35,
     "metadata": {},
     "output_type": "execute_result"
    }
   ],
   "source": [
    "df_past['Moveout_day'] = df_past['Move_Out'].dt.dayofweek\n",
    "df_past['Moveout_day'].unique()"
   ]
  },
  {
   "cell_type": "code",
   "execution_count": 36,
   "metadata": {},
   "outputs": [
    {
     "data": {
      "text/plain": [
       "array(['Friday', 'Monday', 'Thursday', 'Tuesday', 'Wednesday', 'Sunday',\n",
       "       'Saturday'], dtype=object)"
      ]
     },
     "execution_count": 36,
     "metadata": {},
     "output_type": "execute_result"
    }
   ],
   "source": [
    "# assigning key value to the weekdays from Monday thru Friday using .map method.\n",
    "df_past['weekday'] = df_past['Moveout_day'].map({1.: 'Monday', \n",
    "                               2.: 'Tuesday',\n",
    "                               3.: 'Wednesday',\n",
    "                               4.: 'Thursday',\n",
    "                               5.: 'Friday',\n",
    "                               6.: 'Saturday',\n",
    "                               0.: 'Sunday'\n",
    "                               })\n",
    "df_past['weekday'].unique()"
   ]
  },
  {
   "cell_type": "code",
   "execution_count": 37,
   "metadata": {},
   "outputs": [
    {
     "data": {
      "text/plain": [
       "Sunday       189\n",
       "Monday       177\n",
       "Thursday     175\n",
       "Tuesday      171\n",
       "Wednesday    153\n",
       "Friday        98\n",
       "Saturday      45\n",
       "Name: weekday, dtype: int64"
      ]
     },
     "execution_count": 37,
     "metadata": {},
     "output_type": "execute_result"
    }
   ],
   "source": [
    "df_past['weekday'].value_counts()"
   ]
  },
  {
   "cell_type": "code",
   "execution_count": 38,
   "metadata": {},
   "outputs": [
    {
     "data": {
      "image/png": "[encoded data removed]",
      "text/plain": [
       "<Figure size 720x432 with 1 Axes>"
      ]
     },
     "metadata": {},
     "output_type": "display_data"
    }
   ],
   "source": [
    "#Move Out traffic - Day wise\n",
    "plt.figure(figsize=(10,6))\n",
    "sns.set_style('darkgrid')\n",
    "plt.title('Move Out traffic  - Daywise')\n",
    "sns.countplot(data=df_past,\n",
    "              y='weekday', \n",
    "              order = df_past['weekday'].value_counts().index,\n",
    "              palette=\"GnBu_r\");"
   ]
  },
  {
   "cell_type": "markdown",
   "metadata": {},
   "source": [
    "__Daywise Moveout Traffic Graph Interpretation__\n",
    "\n",
    "The above graph of Daywise Moveout Traffic Graph shows that most of the traffic happens mostly during Sunday & Mondays."
   ]
  },
  {
   "cell_type": "markdown",
   "metadata": {},
   "source": [
    "__Monthwise Move out traffic__"
   ]
  },
  {
   "cell_type": "code",
   "execution_count": 39,
   "metadata": {},
   "outputs": [
    {
     "data": {
      "text/plain": [
       "array([12,  3,  5,  8, 11, 10,  1,  4,  7,  2,  6,  9])"
      ]
     },
     "execution_count": 39,
     "metadata": {},
     "output_type": "execute_result"
    }
   ],
   "source": [
    "df_past['Moveout_month'] = df_past['Move_Out'].dt.month\n",
    "df_past['Moveout_month'].unique()"
   ]
  },
  {
   "cell_type": "code",
   "execution_count": 40,
   "metadata": {},
   "outputs": [
    {
     "data": {
      "text/plain": [
       "array(['Dec', 'Mar', 'May', 'Aug', 'Nov', 'Oct', 'Jan', 'Apr', 'Jul',\n",
       "       'Feb', 'Jun', 'Sep'], dtype=object)"
      ]
     },
     "execution_count": 40,
     "metadata": {},
     "output_type": "execute_result"
    }
   ],
   "source": [
    "# assigning key value to the weekdays from Monday thru Friday using .map method.\n",
    "df_past['year_month'] = df_past['Moveout_month'].map({1.: 'Jan', \n",
    "                               2.: 'Feb',\n",
    "                               3.: 'Mar',\n",
    "                               4.: 'Apr',\n",
    "                               5.: 'May',\n",
    "                               6.: 'Jun',\n",
    "                               7.: 'Jul',\n",
    "                               8.: 'Aug',\n",
    "                               9.: 'Sep',\n",
    "                               10.: 'Oct',\n",
    "                               11.: 'Nov',\n",
    "                               12.: 'Dec'\n",
    "\n",
    "                               })\n",
    "df_past['year_month'].unique()"
   ]
  },
  {
   "cell_type": "code",
   "execution_count": 41,
   "metadata": {},
   "outputs": [],
   "source": [
    "month_order = ['Jan', 'Feb','Mar','Apr', 'May', 'Jun', 'Jul', 'Aug','Sep', 'Oct', 'Nov', 'Dec']"
   ]
  },
  {
   "cell_type": "code",
   "execution_count": 42,
   "metadata": {},
   "outputs": [
    {
     "data": {
      "image/png": "[encoded data removed]",
      "text/plain": [
       "<Figure size 720x576 with 1 Axes>"
      ]
     },
     "metadata": {},
     "output_type": "display_data"
    }
   ],
   "source": [
    "#Move Out traffic - Month wise\n",
    "plt.figure(figsize=(10,8))\n",
    "sns.set_style('darkgrid')\n",
    "plt.title('Move Out traffic  - Monthwise')\n",
    "sns.countplot(data=df_past,\n",
    "              y='year_month', \n",
    "              order = month_order,\n",
    "              #order = df_past['year_month'].value_counts().index,\n",
    "              palette=\"BuPu_r\");"
   ]
  },
  {
   "cell_type": "markdown",
   "metadata": {},
   "source": [
    "__Monthwise Moveout Traffic Graph Intrepretation__\n",
    "\n",
    "The above graph of Monthwise Moveout Traffic Graph shows that most of the traffic happens during   Summer months (May, Jul, Aug, Oct). I have also noticed noticed that the traffic is more just after the beginning of School Holidays and picks up just before School start month."
   ]
  },
  {
   "cell_type": "code",
   "execution_count": 43,
   "metadata": {},
   "outputs": [],
   "source": [
    "filtered_df = df_past[df_past['Move_Out'].notnull()]"
   ]
  },
  {
   "cell_type": "code",
   "execution_count": 44,
   "metadata": {},
   "outputs": [],
   "source": [
    "filtered_df.dropna(inplace=True)"
   ]
  },
  {
   "cell_type": "markdown",
   "metadata": {},
   "source": [
    "__Preprocessing__"
   ]
  },
  {
   "cell_type": "code",
   "execution_count": 45,
   "metadata": {},
   "outputs": [],
   "source": [
    "# Train test split\n",
    "X = filtered_df[['Rent', 'Legal_Rent', 'Roommates-Y', 'Deposit']]\n",
    "y = filtered_df['Months_Occupied']"
   ]
  },
  {
   "cell_type": "code",
   "execution_count": 46,
   "metadata": {},
   "outputs": [
    {
     "data": {
      "text/html": [
       "<div>\n",
       "<style scoped>\n",
       "    .dataframe tbody tr th:only-of-type {\n",
       "        vertical-align: middle;\n",
       "    }\n",
       "\n",
       "    .dataframe tbody tr th {\n",
       "        vertical-align: top;\n",
       "    }\n",
       "\n",
       "    .dataframe thead th {\n",
       "        text-align: right;\n",
       "    }\n",
       "</style>\n",
       "<table border=\"1\" class=\"dataframe\">\n",
       "  <thead>\n",
       "    <tr style=\"text-align: right;\">\n",
       "      <th></th>\n",
       "      <th>Unit</th>\n",
       "      <th>TCode</th>\n",
       "      <th>Rent</th>\n",
       "      <th>Base</th>\n",
       "      <th>Criteria</th>\n",
       "      <th>Grace_Period</th>\n",
       "      <th>Legal_Rent</th>\n",
       "      <th>Deposit</th>\n",
       "      <th>From</th>\n",
       "      <th>To</th>\n",
       "      <th>...</th>\n",
       "      <th>Move_Out</th>\n",
       "      <th>Months_Occupied</th>\n",
       "      <th>Last_Renewal</th>\n",
       "      <th>Tenant_Status</th>\n",
       "      <th>Roommates-Y</th>\n",
       "      <th>ACH-Y</th>\n",
       "      <th>Moveout_day</th>\n",
       "      <th>weekday</th>\n",
       "      <th>Moveout_month</th>\n",
       "      <th>year_month</th>\n",
       "    </tr>\n",
       "  </thead>\n",
       "  <tbody>\n",
       "    <tr>\n",
       "      <th>12</th>\n",
       "      <td>1-2F</td>\n",
       "      <td>t0008667</td>\n",
       "      <td>1815.0</td>\n",
       "      <td>5.0</td>\n",
       "      <td>% Monthly Rent</td>\n",
       "      <td>5.0</td>\n",
       "      <td>3893.10</td>\n",
       "      <td>2549.00</td>\n",
       "      <td>2018-05-01</td>\n",
       "      <td>2020-04-30</td>\n",
       "      <td>...</td>\n",
       "      <td>2018-05-01</td>\n",
       "      <td>47</td>\n",
       "      <td>04/09/18</td>\n",
       "      <td>Past</td>\n",
       "      <td>1</td>\n",
       "      <td>0</td>\n",
       "      <td>1</td>\n",
       "      <td>Monday</td>\n",
       "      <td>5</td>\n",
       "      <td>May</td>\n",
       "    </tr>\n",
       "    <tr>\n",
       "      <th>21</th>\n",
       "      <td>1-4C</td>\n",
       "      <td>t0008216</td>\n",
       "      <td>1889.0</td>\n",
       "      <td>5.0</td>\n",
       "      <td>% Monthly Rent</td>\n",
       "      <td>5.0</td>\n",
       "      <td>5381.15</td>\n",
       "      <td>0.00</td>\n",
       "      <td>2018-04-01</td>\n",
       "      <td>2020-03-31</td>\n",
       "      <td>...</td>\n",
       "      <td>2018-08-31</td>\n",
       "      <td>48</td>\n",
       "      <td>03/23/18</td>\n",
       "      <td>Past</td>\n",
       "      <td>1</td>\n",
       "      <td>0</td>\n",
       "      <td>4</td>\n",
       "      <td>Thursday</td>\n",
       "      <td>8</td>\n",
       "      <td>Aug</td>\n",
       "    </tr>\n",
       "    <tr>\n",
       "      <th>31</th>\n",
       "      <td>1-5D</td>\n",
       "      <td>t0009998</td>\n",
       "      <td>1499.0</td>\n",
       "      <td>50.0</td>\n",
       "      <td>Flat Amount</td>\n",
       "      <td>5.0</td>\n",
       "      <td>2100.07</td>\n",
       "      <td>2069.03</td>\n",
       "      <td>2018-11-01</td>\n",
       "      <td>2019-10-31</td>\n",
       "      <td>...</td>\n",
       "      <td>2019-10-05</td>\n",
       "      <td>41</td>\n",
       "      <td>10/08/18</td>\n",
       "      <td>Past</td>\n",
       "      <td>1</td>\n",
       "      <td>0</td>\n",
       "      <td>5</td>\n",
       "      <td>Friday</td>\n",
       "      <td>10</td>\n",
       "      <td>Oct</td>\n",
       "    </tr>\n",
       "    <tr>\n",
       "      <th>47</th>\n",
       "      <td>1-L1</td>\n",
       "      <td>t0008198</td>\n",
       "      <td>1575.0</td>\n",
       "      <td>5.0</td>\n",
       "      <td>% Owed-month</td>\n",
       "      <td>5.0</td>\n",
       "      <td>2560.93</td>\n",
       "      <td>0.00</td>\n",
       "      <td>2018-05-01</td>\n",
       "      <td>2019-04-30</td>\n",
       "      <td>...</td>\n",
       "      <td>2019-04-30</td>\n",
       "      <td>47</td>\n",
       "      <td>04/16/18</td>\n",
       "      <td>Past</td>\n",
       "      <td>1</td>\n",
       "      <td>0</td>\n",
       "      <td>1</td>\n",
       "      <td>Monday</td>\n",
       "      <td>4</td>\n",
       "      <td>Apr</td>\n",
       "    </tr>\n",
       "    <tr>\n",
       "      <th>74</th>\n",
       "      <td>4-1R</td>\n",
       "      <td>t0005773</td>\n",
       "      <td>960.0</td>\n",
       "      <td>0.0</td>\n",
       "      <td>% Owed-month</td>\n",
       "      <td>0.0</td>\n",
       "      <td>2842.13</td>\n",
       "      <td>1454.00</td>\n",
       "      <td>2016-02-01</td>\n",
       "      <td>2017-01-31</td>\n",
       "      <td>...</td>\n",
       "      <td>2016-03-31</td>\n",
       "      <td>63</td>\n",
       "      <td>01/14/16</td>\n",
       "      <td>Past</td>\n",
       "      <td>0</td>\n",
       "      <td>0</td>\n",
       "      <td>3</td>\n",
       "      <td>Wednesday</td>\n",
       "      <td>3</td>\n",
       "      <td>Mar</td>\n",
       "    </tr>\n",
       "  </tbody>\n",
       "</table>\n",
       "<p>5 rows × 21 columns</p>\n",
       "</div>"
      ],
      "text/plain": [
       "    Unit     TCode    Rent  Base        Criteria  Grace_Period  Legal_Rent  \\\n",
       "12  1-2F  t0008667  1815.0   5.0  % Monthly Rent           5.0     3893.10   \n",
       "21  1-4C  t0008216  1889.0   5.0  % Monthly Rent           5.0     5381.15   \n",
       "31  1-5D  t0009998  1499.0  50.0     Flat Amount           5.0     2100.07   \n",
       "47  1-L1  t0008198  1575.0   5.0    % Owed-month           5.0     2560.93   \n",
       "74  4-1R  t0005773   960.0   0.0    % Owed-month           0.0     2842.13   \n",
       "\n",
       "    Deposit       From         To  ...   Move_Out Months_Occupied  \\\n",
       "12  2549.00 2018-05-01 2020-04-30  ... 2018-05-01              47   \n",
       "21     0.00 2018-04-01 2020-03-31  ... 2018-08-31              48   \n",
       "31  2069.03 2018-11-01 2019-10-31  ... 2019-10-05              41   \n",
       "47     0.00 2018-05-01 2019-04-30  ... 2019-04-30              47   \n",
       "74  1454.00 2016-02-01 2017-01-31  ... 2016-03-31              63   \n",
       "\n",
       "    Last_Renewal Tenant_Status Roommates-Y  ACH-Y  Moveout_day    weekday  \\\n",
       "12      04/09/18          Past           1      0            1     Monday   \n",
       "21      03/23/18          Past           1      0            4   Thursday   \n",
       "31      10/08/18          Past           1      0            5     Friday   \n",
       "47      04/16/18          Past           1      0            1     Monday   \n",
       "74      01/14/16          Past           0      0            3  Wednesday   \n",
       "\n",
       "   Moveout_month  year_month  \n",
       "12             5         May  \n",
       "21             8         Aug  \n",
       "31            10         Oct  \n",
       "47             4         Apr  \n",
       "74             3         Mar  \n",
       "\n",
       "[5 rows x 21 columns]"
      ]
     },
     "execution_count": 46,
     "metadata": {},
     "output_type": "execute_result"
    }
   ],
   "source": [
    "filtered_df.head()"
   ]
  },
  {
   "cell_type": "markdown",
   "metadata": {},
   "source": [
    "# Modeling "
   ]
  },
  {
   "cell_type": "markdown",
   "metadata": {},
   "source": [
    "__Baseline Model__"
   ]
  },
  {
   "cell_type": "code",
   "execution_count": 47,
   "metadata": {},
   "outputs": [],
   "source": [
    "#just making sure there is no Nan values in the data we will use in the \n",
    "#following models\n",
    "combined_df.fillna(0, inplace=True)"
   ]
  },
  {
   "cell_type": "code",
   "execution_count": 48,
   "metadata": {},
   "outputs": [
    {
     "data": {
      "text/plain": [
       "0.0    0.668312\n",
       "1.0    0.331688\n",
       "Name: Tenant_Status, dtype: float64"
      ]
     },
     "execution_count": 48,
     "metadata": {},
     "output_type": "execute_result"
    }
   ],
   "source": [
    "combined_df['Tenant_Status'].value_counts(normalize = True)"
   ]
  },
  {
   "cell_type": "markdown",
   "metadata": {},
   "source": [
    "__Preprocessing & Classification Modeling__"
   ]
  },
  {
   "cell_type": "code",
   "execution_count": 49,
   "metadata": {},
   "outputs": [],
   "source": [
    "X_cols = ['Rent', 'Base',\n",
    "         'Grace_Period', 'Legal_Rent', 'Deposit', \n",
    "         'Roommates-Y', 'ACH-Y','Months_Occupied']\n",
    "\n",
    "X = combined_df[X_cols]\n",
    "y = combined_df['Tenant_Status']\n",
    "\n",
    "X_train, X_test, y_train, y_test = train_test_split(X, y, random_state = RANDOM_STATE)"
   ]
  },
  {
   "cell_type": "markdown",
   "metadata": {},
   "source": [
    "### Logistic Regression Model"
   ]
  },
  {
   "cell_type": "code",
   "execution_count": 50,
   "metadata": {},
   "outputs": [
    {
     "name": "stdout",
     "output_type": "stream",
     "text": [
      "Score on training set: 0.9245283018867925\n",
      "Score on testing set: 0.9157894736842105\n",
      "Cross Val Score: 0.91967825211213\n"
     ]
    }
   ],
   "source": [
    "pipe_log = Pipeline([('sc', StandardScaler()),\n",
    "                ('log', LogisticRegression(solver = 'liblinear'))\n",
    "])\n",
    "params_log = {'sc__with_mean': [True, False], \n",
    "                 'sc__with_std': [True, False],\n",
    "                 'log__C': [1e9, 0.0001, 10]}\n",
    "            \n",
    "gs_log = GridSearchCV(pipe_log, \n",
    "                     params_log,\n",
    "                 cv=5, \n",
    ")\n",
    "\n",
    "log_model = gs_log.fit(X_train, y_train)\n",
    "\n",
    "print(f'Score on training set: {log_model.score(X_train, y_train)}')\n",
    "print(f'Score on testing set: {log_model.score(X_test, y_test)}')\n",
    "print(f'Cross Val Score: {cross_val_score(log_model.best_estimator_, X, y, cv=5).mean()}')"
   ]
  },
  {
   "cell_type": "markdown",
   "metadata": {},
   "source": [
    "__Logistic Regression Model Score Intrepretation__\n",
    "\n",
    "**The above Logistics Regression Model has accuracy of 0.99 for my training set and has accuracy 0.99 for my testing set. This model out performs my baseline model score of 0.67**"
   ]
  },
  {
   "cell_type": "markdown",
   "metadata": {},
   "source": [
    "### KNN Model"
   ]
  },
  {
   "cell_type": "code",
   "execution_count": 51,
   "metadata": {},
   "outputs": [
    {
     "name": "stdout",
     "output_type": "stream",
     "text": [
      "Score on training set: 1.0\n",
      "Score on testing set: 0.9394736842105263\n",
      "Cross Val Score: 0.9496233384759976\n"
     ]
    }
   ],
   "source": [
    "pipe_kn1 = Pipeline([('sc', StandardScaler()),\n",
    "    ('kn', KNeighborsClassifier())\n",
    "])\n",
    "params_kn1 = {'sc__with_mean': [True, False], \n",
    "                 'sc__with_std': [True, False],\n",
    "                 'kn__p': [1, 2], \n",
    "                 'kn__weights': ['uniform', 'distance'],\n",
    "                 'kn__n_neighbors': [3, 5, 10]}\n",
    "                 \n",
    "gs_kn1 = GridSearchCV(pipe_kn1, \n",
    "                     params_kn1,\n",
    "                 cv=5, \n",
    ")\n",
    "\n",
    "kn1_model = gs_kn1.fit(X_train, y_train)\n",
    "print(f'Score on training set: {kn1_model.score(X_train, y_train)}')\n",
    "print(f'Score on testing set: {kn1_model.score(X_test, y_test)}')\n",
    "print(f'Cross Val Score: {cross_val_score(kn1_model.best_estimator_, X, y, cv=5).mean()}')"
   ]
  },
  {
   "cell_type": "markdown",
   "metadata": {},
   "source": [
    "__KNN Model Score Intrepretation__\n",
    "\n",
    "**The above KNN Model has accuracy of 0.99 for my training set and has accuracy 0.95 for my testing set. This model performs same as my baseline model score of 0.67**"
   ]
  },
  {
   "cell_type": "markdown",
   "metadata": {},
   "source": [
    "### Decision Tree Model"
   ]
  },
  {
   "cell_type": "code",
   "execution_count": 52,
   "metadata": {},
   "outputs": [
    {
     "name": "stdout",
     "output_type": "stream",
     "text": [
      "Score on training set: 0.9627029398859148\n",
      "Score on testing set: 0.9618421052631579\n",
      "Cross Val Score: 0.952921488270184\n"
     ]
    }
   ],
   "source": [
    "pipe_dt1 = Pipeline([('sc', StandardScaler()),\n",
    "    ('dt',DecisionTreeClassifier())\n",
    "])\n",
    "params_dt1 = {'sc__with_mean': [True, False], \n",
    "                 'sc__with_std': [True, False],\n",
    "                 'dt__max_depth':[3,5,7],\n",
    "                 'dt__min_samples_split':[10,15,20],\n",
    "                 'dt__min_samples_leaf':[5,7,9]\n",
    "                   }\n",
    "                 \n",
    "gs_dt1 = GridSearchCV(pipe_dt1, \n",
    "                     params_dt1,\n",
    "                 cv=5, \n",
    ")\n",
    "\n",
    "\n",
    "\n",
    "dt1_model = gs_dt1.fit(X_train, y_train)\n",
    "# Evaluate model.\n",
    "print(f'Score on training set: {dt1_model.score(X_train, y_train)}')\n",
    "print(f'Score on testing set: {dt1_model.score(X_test, y_test)}')\n",
    "print(f'Cross Val Score: {cross_val_score(dt1_model.best_estimator_, X, y, cv=5).mean()}')"
   ]
  },
  {
   "cell_type": "markdown",
   "metadata": {},
   "source": [
    "__Decision Tree Score Intrepretation__\n",
    "\n",
    "**The above Decsion tree model has accuracy of 0.99 for my training set and has accuracy 0.99 for my testing set. This model out performs my baseline model score of 0.67**"
   ]
  },
  {
   "cell_type": "markdown",
   "metadata": {},
   "source": [
    "### Bagged Tree Model"
   ]
  },
  {
   "cell_type": "code",
   "execution_count": 53,
   "metadata": {},
   "outputs": [
    {
     "name": "stdout",
     "output_type": "stream",
     "text": [
      "Score on training set: 0.6687143483984204\n",
      "Score on testing set: 0.6671052631578948\n",
      "Cross Val Score: 0.7394034166182941\n"
     ]
    }
   ],
   "source": [
    "pipe_bag1 = Pipeline([('sc', StandardScaler()),\n",
    "    ('bag',BaggingClassifier())\n",
    "])\n",
    "params_bag1 = {'sc__with_mean': [True, False], \n",
    "              'sc__with_std': [True, False],\n",
    "              'bag__n_estimators': [10, 20, 30],\n",
    "              'bag__max_samples': [1, 2, 3],\n",
    "              'bag__bootstrap': [True],\n",
    "                   }\n",
    "                 \n",
    "gs_bag1 = GridSearchCV(pipe_bag1, \n",
    "                     params_bag1,\n",
    "                 cv=5, \n",
    ")\n",
    "\n",
    "\n",
    "\n",
    "bag1_model = gs_bag1.fit(X_train, y_train)\n",
    "# Evaluate model.\n",
    "print(f'Score on training set: {bag1_model.score(X_train, y_train)}')\n",
    "print(f'Score on testing set: {bag1_model.score(X_test, y_test)}')\n",
    "print(f'Cross Val Score: {cross_val_score(bag1_model.best_estimator_, X, y, cv=5).mean()}')"
   ]
  },
  {
   "cell_type": "markdown",
   "metadata": {},
   "source": [
    "__Random Forest Score Intrepretation__\n",
    "\n",
    "**The above Random Forest model has accuracy of 0.67 for my training set and has accuracy 0.66 for my testing set. This model performs same as my baseline model score of 0.67**"
   ]
  },
  {
   "cell_type": "markdown",
   "metadata": {},
   "source": [
    "### Random Forest"
   ]
  },
  {
   "cell_type": "code",
   "execution_count": 54,
   "metadata": {
    "scrolled": true
   },
   "outputs": [
    {
     "name": "stdout",
     "output_type": "stream",
     "text": [
      "Score on training set: 1.0\n",
      "Score on testing set: 0.9552631578947368\n",
      "Cross Val Score: 0.9558798468932658\n"
     ]
    }
   ],
   "source": [
    "pipe_rf1 = Pipeline([('sc', StandardScaler()),\n",
    "        ('rf',RandomForestClassifier())\n",
    "])\n",
    "params_rf1= {'sc__with_mean': [True, False], \n",
    "                 'sc__with_std': [True, False],\n",
    "                  'rf__n_estimators': [100, 150, 200],\n",
    "            'rf__max_depth': [None, 1, 2, 3, 4, 5], }\n",
    "                 \n",
    "gs_rf1 = GridSearchCV(pipe_rf1, \n",
    "                     params_rf1,\n",
    "                 cv=5, )\n",
    "\n",
    "\n",
    "\n",
    "\n",
    "rf1_model = gs_rf1.fit(X_train, y_train)\n",
    "# Evaluate model.\n",
    "print(f'Score on training set: {rf1_model.score(X_train, y_train)}')\n",
    "print(f'Score on testing set: {rf1_model.score(X_test, y_test)}')\n",
    "\n",
    "print(f'Cross Val Score: {cross_val_score(rf1_model.best_estimator_, X, y, cv=5).mean()}')"
   ]
  },
  {
   "cell_type": "markdown",
   "metadata": {},
   "source": [
    "__Random Forest Score Intrepretation__\n",
    "\n",
    "**The above Random Forest model has accuracy of 0.99 for my training set and has accuracy 0.99 for my testing set. This model out performs my baseline model score of 0.67**"
   ]
  },
  {
   "cell_type": "code",
   "execution_count": 55,
   "metadata": {},
   "outputs": [],
   "source": [
    "preds = rf1_model.predict(X_test)"
   ]
  },
  {
   "cell_type": "markdown",
   "metadata": {},
   "source": [
    "### Extra trees model"
   ]
  },
  {
   "cell_type": "code",
   "execution_count": 56,
   "metadata": {
    "scrolled": true
   },
   "outputs": [
    {
     "name": "stdout",
     "output_type": "stream",
     "text": [
      "Score on training set: 1.0\n",
      "Score on testing set: 0.9565789473684211\n",
      "Cross Val Score: 0.9525898259467336\n"
     ]
    }
   ],
   "source": [
    "pipe_et1 = Pipeline([('sc', StandardScaler()),\n",
    "        ('et',ExtraTreesClassifier())\n",
    "])\n",
    "params_et1= {'sc__with_mean': [True, False], \n",
    "                 'sc__with_std': [True, False],\n",
    "                  'et__n_estimators': [100, 150, 200],\n",
    "            'et__max_depth': [None, 1, 2, 3, 4, 5], }\n",
    "                 \n",
    "gs_et1 = GridSearchCV(pipe_et1,\n",
    "                        param_grid=params_et1,\n",
    "                        cv=5,\n",
    "                        scoring='accuracy',\n",
    "                        n_jobs=-2)\n",
    "\n",
    "\n",
    "\n",
    "et1_model = gs_et1.fit(X_train, y_train)\n",
    "# Evaluate model.\n",
    "print(f'Score on training set: {et1_model.score(X_train, y_train)}')\n",
    "print(f'Score on testing set: {et1_model.score(X_test, y_test)}')\n",
    "print(f'Cross Val Score: {cross_val_score(et1_model.best_estimator_, X, y, cv=5).mean()}')"
   ]
  },
  {
   "cell_type": "code",
   "execution_count": 57,
   "metadata": {
    "scrolled": true
   },
   "outputs": [
    {
     "data": {
      "text/plain": [
       "GridSearchCV(cv=5, error_score='raise-deprecating',\n",
       "             estimator=Pipeline(memory=None,\n",
       "                                steps=[('extra_trees',\n",
       "                                        ExtraTreesClassifier(bootstrap=False,\n",
       "                                                             class_weight=None,\n",
       "                                                             criterion='gini',\n",
       "                                                             max_depth=None,\n",
       "                                                             max_features='auto',\n",
       "                                                             max_leaf_nodes=None,\n",
       "                                                             min_impurity_decrease=0.0,\n",
       "                                                             min_impurity_split=None,\n",
       "                                                             min_samples_leaf=1,\n",
       "                                                             min_samples_split=2,\n",
       "                                                             min_weight_fraction_leaf=0.0,\n",
       "                                                             n_estimators='warn',\n",
       "                                                             n_jobs=None,\n",
       "                                                             oob_score=False,\n",
       "                                                             random_state=None,\n",
       "                                                             verbose=0,\n",
       "                                                             warm_start=False))],\n",
       "                                verbose=False),\n",
       "             iid='warn', n_jobs=-2,\n",
       "             param_grid={'extra_trees__n_estimators': [300, 400, 500, 600]},\n",
       "             pre_dispatch='2*n_jobs', refit=True, return_train_score=False,\n",
       "             scoring='accuracy', verbose=0)"
      ]
     },
     "execution_count": 57,
     "metadata": {},
     "output_type": "execute_result"
    }
   ],
   "source": [
    "pipe = Pipeline(steps=[('extra_trees', ExtraTreesClassifier())])\n",
    "\n",
    "params = {'extra_trees__n_estimators': [300, 400, 500, 600]}\n",
    "gs_extra_trees = GridSearchCV(pipe,\n",
    "                              param_grid=params,\n",
    "                              cv=5,\n",
    "                              scoring='accuracy',\n",
    "                              n_jobs=-2)\n",
    "gs_extra_trees.fit(X_train, y_train)"
   ]
  },
  {
   "cell_type": "markdown",
   "metadata": {},
   "source": [
    "__Extra trees Score Intrepretation__\n",
    "\n",
    "**The above Extra Trees model has accuracy of 1.0 for my training set and has accuracy 0.96 for my testing set. This model out performs my baseline model score of 0.67**"
   ]
  },
  {
   "cell_type": "markdown",
   "metadata": {},
   "source": [
    "### Neural Network Model"
   ]
  },
  {
   "cell_type": "code",
   "execution_count": 58,
   "metadata": {},
   "outputs": [],
   "source": [
    "X_cols = ['Rent', 'Base',\n",
    "         'Grace_Period', 'Legal_Rent', 'Deposit', \n",
    "         'Roommates-Y', 'ACH-Y','Months_Occupied']\n",
    "\n",
    "X = combined_df[X_cols]\n",
    "y = combined_df['Tenant_Status'].astype('int')\n",
    "\n",
    "X_train, X_test, y_train, y_test = train_test_split(X, y)\n",
    "ss = StandardScaler()\n",
    "X_train_sc = ss.fit_transform(X_train)\n",
    "X_test_nn = ss.transform(X_test)"
   ]
  },
  {
   "cell_type": "code",
   "execution_count": 59,
   "metadata": {},
   "outputs": [
    {
     "data": {
      "text/plain": [
       "0.6683119447186574"
      ]
     },
     "execution_count": 59,
     "metadata": {},
     "output_type": "execute_result"
    }
   ],
   "source": [
    "1 - y.mean()"
   ]
  },
  {
   "cell_type": "code",
   "execution_count": 60,
   "metadata": {},
   "outputs": [],
   "source": [
    "n_input = X_train_sc.shape[1]"
   ]
  },
  {
   "cell_type": "code",
   "execution_count": 61,
   "metadata": {},
   "outputs": [
    {
     "data": {
      "text/plain": [
       "8"
      ]
     },
     "execution_count": 61,
     "metadata": {},
     "output_type": "execute_result"
    }
   ],
   "source": [
    "n_input"
   ]
  },
  {
   "cell_type": "code",
   "execution_count": 62,
   "metadata": {},
   "outputs": [],
   "source": [
    "model = Sequential()\n",
    "\n",
    "model.add(Dense(18, input_dim=n_input, activation='relu')) #input layer\n",
    "model.add(Dense(18, input_dim=n_input, activation='relu')) #hidden layer\n",
    "model.add(Dense(1, activation='sigmoid')) #output layer"
   ]
  },
  {
   "cell_type": "code",
   "execution_count": 63,
   "metadata": {},
   "outputs": [],
   "source": [
    "model.compile(loss='binary_crossentropy', optimizer='adam', metrics=['acc'])"
   ]
  },
  {
   "cell_type": "code",
   "execution_count": 64,
   "metadata": {},
   "outputs": [
    {
     "name": "stdout",
     "output_type": "stream",
     "text": [
      "Train on 2279 samples, validate on 760 samples\n",
      "Epoch 1/100\n",
      " - 0s - loss: 0.5736 - acc: 0.7016 - val_loss: 0.4430 - val_acc: 0.8079\n",
      "Epoch 2/100\n",
      " - 0s - loss: 0.3457 - acc: 0.8798 - val_loss: 0.2836 - val_acc: 0.9079\n",
      "Epoch 3/100\n",
      " - 0s - loss: 0.2224 - acc: 0.9315 - val_loss: 0.2133 - val_acc: 0.9250\n",
      "Epoch 4/100\n",
      " - 0s - loss: 0.1777 - acc: 0.9377 - val_loss: 0.1876 - val_acc: 0.9250\n",
      "Epoch 5/100\n",
      " - 0s - loss: 0.1604 - acc: 0.9408 - val_loss: 0.1792 - val_acc: 0.9303\n",
      "Epoch 6/100\n",
      " - 0s - loss: 0.1506 - acc: 0.9421 - val_loss: 0.1726 - val_acc: 0.9289\n",
      "Epoch 7/100\n",
      " - 0s - loss: 0.1455 - acc: 0.9438 - val_loss: 0.1690 - val_acc: 0.9329\n",
      "Epoch 8/100\n",
      " - 0s - loss: 0.1405 - acc: 0.9443 - val_loss: 0.1648 - val_acc: 0.9342\n",
      "Epoch 9/100\n",
      " - 0s - loss: 0.1366 - acc: 0.9456 - val_loss: 0.1617 - val_acc: 0.9355\n",
      "Epoch 10/100\n",
      " - 0s - loss: 0.1327 - acc: 0.9460 - val_loss: 0.1600 - val_acc: 0.9368\n",
      "Epoch 11/100\n",
      " - 0s - loss: 0.1304 - acc: 0.9460 - val_loss: 0.1583 - val_acc: 0.9382\n",
      "Epoch 12/100\n",
      " - 0s - loss: 0.1272 - acc: 0.9473 - val_loss: 0.1557 - val_acc: 0.9382\n",
      "Epoch 13/100\n",
      " - 0s - loss: 0.1241 - acc: 0.9487 - val_loss: 0.1547 - val_acc: 0.9395\n",
      "Epoch 14/100\n",
      " - 0s - loss: 0.1219 - acc: 0.9487 - val_loss: 0.1527 - val_acc: 0.9395\n",
      "Epoch 15/100\n",
      " - 0s - loss: 0.1207 - acc: 0.9509 - val_loss: 0.1515 - val_acc: 0.9368\n",
      "Epoch 16/100\n",
      " - 0s - loss: 0.1172 - acc: 0.9513 - val_loss: 0.1527 - val_acc: 0.9447\n",
      "Epoch 17/100\n",
      " - 0s - loss: 0.1178 - acc: 0.9513 - val_loss: 0.1516 - val_acc: 0.9447\n",
      "Epoch 18/100\n",
      " - 0s - loss: 0.1141 - acc: 0.9561 - val_loss: 0.1519 - val_acc: 0.9421\n",
      "Epoch 19/100\n",
      " - 0s - loss: 0.1145 - acc: 0.9544 - val_loss: 0.1515 - val_acc: 0.9447\n",
      "Epoch 20/100\n",
      " - 0s - loss: 0.1124 - acc: 0.9552 - val_loss: 0.1495 - val_acc: 0.9434\n",
      "Epoch 21/100\n",
      " - 0s - loss: 0.1114 - acc: 0.9561 - val_loss: 0.1494 - val_acc: 0.9434\n",
      "Epoch 22/100\n",
      " - 0s - loss: 0.1112 - acc: 0.9566 - val_loss: 0.1494 - val_acc: 0.9434\n",
      "Epoch 23/100\n",
      " - 0s - loss: 0.1103 - acc: 0.9574 - val_loss: 0.1490 - val_acc: 0.9434\n",
      "Epoch 24/100\n",
      " - 0s - loss: 0.1096 - acc: 0.9579 - val_loss: 0.1492 - val_acc: 0.9421\n",
      "Epoch 25/100\n",
      " - 0s - loss: 0.1081 - acc: 0.9570 - val_loss: 0.1487 - val_acc: 0.9421\n",
      "Epoch 26/100\n",
      " - 0s - loss: 0.1079 - acc: 0.9557 - val_loss: 0.1493 - val_acc: 0.9461\n",
      "Epoch 27/100\n",
      " - 0s - loss: 0.1069 - acc: 0.9544 - val_loss: 0.1490 - val_acc: 0.9421\n",
      "Epoch 28/100\n",
      " - 0s - loss: 0.1065 - acc: 0.9570 - val_loss: 0.1497 - val_acc: 0.9447\n",
      "Epoch 29/100\n",
      " - 0s - loss: 0.1053 - acc: 0.9566 - val_loss: 0.1472 - val_acc: 0.9434\n",
      "Epoch 30/100\n",
      " - 0s - loss: 0.1046 - acc: 0.9588 - val_loss: 0.1474 - val_acc: 0.9434\n",
      "Epoch 31/100\n",
      " - 0s - loss: 0.1037 - acc: 0.9574 - val_loss: 0.1473 - val_acc: 0.9421\n",
      "Epoch 32/100\n",
      " - 0s - loss: 0.1038 - acc: 0.9592 - val_loss: 0.1474 - val_acc: 0.9447\n",
      "Epoch 33/100\n",
      " - 0s - loss: 0.1041 - acc: 0.9544 - val_loss: 0.1533 - val_acc: 0.9434\n",
      "Epoch 34/100\n",
      " - 0s - loss: 0.1026 - acc: 0.9596 - val_loss: 0.1485 - val_acc: 0.9395\n",
      "Epoch 35/100\n",
      " - 0s - loss: 0.1020 - acc: 0.9596 - val_loss: 0.1490 - val_acc: 0.9421\n",
      "Epoch 36/100\n",
      " - 0s - loss: 0.1004 - acc: 0.9596 - val_loss: 0.1471 - val_acc: 0.9434\n",
      "Epoch 37/100\n",
      " - 0s - loss: 0.1019 - acc: 0.9592 - val_loss: 0.1482 - val_acc: 0.9447\n",
      "Epoch 38/100\n",
      " - 0s - loss: 0.1000 - acc: 0.9614 - val_loss: 0.1482 - val_acc: 0.9421\n",
      "Epoch 39/100\n",
      " - 0s - loss: 0.1009 - acc: 0.9601 - val_loss: 0.1486 - val_acc: 0.9447\n",
      "Epoch 40/100\n",
      " - 0s - loss: 0.0998 - acc: 0.9588 - val_loss: 0.1466 - val_acc: 0.9421\n",
      "Epoch 41/100\n",
      " - 0s - loss: 0.0985 - acc: 0.9601 - val_loss: 0.1467 - val_acc: 0.9408\n",
      "Epoch 42/100\n",
      " - 0s - loss: 0.0993 - acc: 0.9574 - val_loss: 0.1470 - val_acc: 0.9461\n",
      "Epoch 43/100\n",
      " - 0s - loss: 0.0977 - acc: 0.9614 - val_loss: 0.1473 - val_acc: 0.9408\n",
      "Epoch 44/100\n",
      " - 0s - loss: 0.0984 - acc: 0.9601 - val_loss: 0.1473 - val_acc: 0.9447\n",
      "Epoch 45/100\n",
      " - 0s - loss: 0.0976 - acc: 0.9601 - val_loss: 0.1473 - val_acc: 0.9474\n",
      "Epoch 46/100\n",
      " - 0s - loss: 0.0980 - acc: 0.9592 - val_loss: 0.1477 - val_acc: 0.9421\n",
      "Epoch 47/100\n",
      " - 0s - loss: 0.0986 - acc: 0.9609 - val_loss: 0.1468 - val_acc: 0.9461\n",
      "Epoch 48/100\n",
      " - 0s - loss: 0.0965 - acc: 0.9592 - val_loss: 0.1453 - val_acc: 0.9447\n",
      "Epoch 49/100\n",
      " - 0s - loss: 0.0969 - acc: 0.9588 - val_loss: 0.1461 - val_acc: 0.9434\n",
      "Epoch 50/100\n",
      " - 0s - loss: 0.0963 - acc: 0.9609 - val_loss: 0.1451 - val_acc: 0.9474\n",
      "Epoch 51/100\n",
      " - 0s - loss: 0.0962 - acc: 0.9596 - val_loss: 0.1470 - val_acc: 0.9447\n",
      "Epoch 52/100\n",
      " - 0s - loss: 0.0955 - acc: 0.9574 - val_loss: 0.1480 - val_acc: 0.9474\n",
      "Epoch 53/100\n",
      " - 0s - loss: 0.0955 - acc: 0.9609 - val_loss: 0.1484 - val_acc: 0.9461\n",
      "Epoch 54/100\n",
      " - 0s - loss: 0.0948 - acc: 0.9601 - val_loss: 0.1458 - val_acc: 0.9487\n",
      "Epoch 55/100\n",
      " - 0s - loss: 0.0939 - acc: 0.9596 - val_loss: 0.1462 - val_acc: 0.9461\n",
      "Epoch 56/100\n",
      " - 0s - loss: 0.0960 - acc: 0.9601 - val_loss: 0.1459 - val_acc: 0.9421\n",
      "Epoch 57/100\n",
      " - 0s - loss: 0.0944 - acc: 0.9579 - val_loss: 0.1473 - val_acc: 0.9474\n",
      "Epoch 58/100\n",
      " - 0s - loss: 0.0939 - acc: 0.9605 - val_loss: 0.1470 - val_acc: 0.9447\n",
      "Epoch 59/100\n",
      " - 0s - loss: 0.0934 - acc: 0.9614 - val_loss: 0.1476 - val_acc: 0.9421\n",
      "Epoch 60/100\n",
      " - 0s - loss: 0.0924 - acc: 0.9614 - val_loss: 0.1472 - val_acc: 0.9474\n",
      "Epoch 61/100\n",
      " - 0s - loss: 0.0926 - acc: 0.9609 - val_loss: 0.1462 - val_acc: 0.9447\n",
      "Epoch 62/100\n",
      " - 0s - loss: 0.0931 - acc: 0.9609 - val_loss: 0.1475 - val_acc: 0.9447\n",
      "Epoch 63/100\n",
      " - 0s - loss: 0.0932 - acc: 0.9627 - val_loss: 0.1469 - val_acc: 0.9474\n",
      "Epoch 64/100\n",
      " - 0s - loss: 0.0924 - acc: 0.9614 - val_loss: 0.1462 - val_acc: 0.9434\n",
      "Epoch 65/100\n",
      " - 0s - loss: 0.0917 - acc: 0.9627 - val_loss: 0.1469 - val_acc: 0.9447\n",
      "Epoch 66/100\n",
      " - 0s - loss: 0.0917 - acc: 0.9605 - val_loss: 0.1479 - val_acc: 0.9447\n",
      "Epoch 67/100\n",
      " - 0s - loss: 0.0917 - acc: 0.9618 - val_loss: 0.1464 - val_acc: 0.9447\n",
      "Epoch 68/100\n",
      " - 0s - loss: 0.0920 - acc: 0.9640 - val_loss: 0.1489 - val_acc: 0.9461\n",
      "Epoch 69/100\n",
      " - 0s - loss: 0.0915 - acc: 0.9631 - val_loss: 0.1505 - val_acc: 0.9474\n",
      "Epoch 70/100\n",
      " - 0s - loss: 0.0903 - acc: 0.9640 - val_loss: 0.1474 - val_acc: 0.9447\n",
      "Epoch 71/100\n",
      " - 0s - loss: 0.0904 - acc: 0.9614 - val_loss: 0.1478 - val_acc: 0.9461\n",
      "Epoch 72/100\n",
      " - 0s - loss: 0.0905 - acc: 0.9623 - val_loss: 0.1488 - val_acc: 0.9434\n",
      "Epoch 73/100\n",
      " - 0s - loss: 0.0896 - acc: 0.9623 - val_loss: 0.1484 - val_acc: 0.9474\n",
      "Epoch 74/100\n",
      " - 0s - loss: 0.0894 - acc: 0.9627 - val_loss: 0.1481 - val_acc: 0.9434\n",
      "Epoch 75/100\n",
      " - 0s - loss: 0.0898 - acc: 0.9631 - val_loss: 0.1503 - val_acc: 0.9474\n",
      "Epoch 76/100\n",
      " - 0s - loss: 0.0901 - acc: 0.9645 - val_loss: 0.1477 - val_acc: 0.9395\n",
      "Epoch 77/100\n",
      " - 0s - loss: 0.0897 - acc: 0.9631 - val_loss: 0.1476 - val_acc: 0.9434\n",
      "Epoch 78/100\n",
      " - 0s - loss: 0.0887 - acc: 0.9631 - val_loss: 0.1475 - val_acc: 0.9434\n",
      "Epoch 79/100\n",
      " - 0s - loss: 0.0886 - acc: 0.9645 - val_loss: 0.1477 - val_acc: 0.9447\n",
      "Epoch 80/100\n",
      " - 0s - loss: 0.0885 - acc: 0.9636 - val_loss: 0.1473 - val_acc: 0.9447\n",
      "Epoch 81/100\n",
      " - 0s - loss: 0.0891 - acc: 0.9662 - val_loss: 0.1470 - val_acc: 0.9421\n",
      "Epoch 82/100\n",
      " - 0s - loss: 0.0889 - acc: 0.9631 - val_loss: 0.1484 - val_acc: 0.9474\n",
      "Epoch 83/100\n",
      " - 0s - loss: 0.0880 - acc: 0.9645 - val_loss: 0.1485 - val_acc: 0.9447\n",
      "Epoch 84/100\n",
      " - 0s - loss: 0.0883 - acc: 0.9640 - val_loss: 0.1473 - val_acc: 0.9434\n",
      "Epoch 85/100\n",
      " - 0s - loss: 0.0889 - acc: 0.9649 - val_loss: 0.1486 - val_acc: 0.9408\n",
      "Epoch 86/100\n",
      " - 0s - loss: 0.0885 - acc: 0.9631 - val_loss: 0.1470 - val_acc: 0.9461\n",
      "Epoch 87/100\n",
      " - 0s - loss: 0.0883 - acc: 0.9645 - val_loss: 0.1474 - val_acc: 0.9434\n",
      "Epoch 88/100\n",
      " - 0s - loss: 0.0881 - acc: 0.9671 - val_loss: 0.1467 - val_acc: 0.9395\n",
      "Epoch 89/100\n",
      " - 0s - loss: 0.0873 - acc: 0.9653 - val_loss: 0.1488 - val_acc: 0.9421\n",
      "Epoch 90/100\n",
      " - 0s - loss: 0.0873 - acc: 0.9640 - val_loss: 0.1469 - val_acc: 0.9447\n",
      "Epoch 91/100\n",
      " - 0s - loss: 0.0864 - acc: 0.9667 - val_loss: 0.1481 - val_acc: 0.9447\n",
      "Epoch 92/100\n",
      " - 0s - loss: 0.0860 - acc: 0.9667 - val_loss: 0.1505 - val_acc: 0.9461\n",
      "Epoch 93/100\n",
      " - 0s - loss: 0.0873 - acc: 0.9662 - val_loss: 0.1490 - val_acc: 0.9447\n",
      "Epoch 94/100\n",
      " - 0s - loss: 0.0864 - acc: 0.9653 - val_loss: 0.1494 - val_acc: 0.9500\n",
      "Epoch 95/100\n",
      " - 0s - loss: 0.0867 - acc: 0.9653 - val_loss: 0.1485 - val_acc: 0.9447\n",
      "Epoch 96/100\n",
      " - 0s - loss: 0.0849 - acc: 0.9667 - val_loss: 0.1511 - val_acc: 0.9447\n"
     ]
    },
    {
     "name": "stdout",
     "output_type": "stream",
     "text": [
      "Epoch 97/100\n",
      " - 0s - loss: 0.0864 - acc: 0.9649 - val_loss: 0.1484 - val_acc: 0.9447\n",
      "Epoch 98/100\n",
      " - 0s - loss: 0.0858 - acc: 0.9649 - val_loss: 0.1493 - val_acc: 0.9408\n",
      "Epoch 99/100\n",
      " - 0s - loss: 0.0877 - acc: 0.9662 - val_loss: 0.1501 - val_acc: 0.9434\n",
      "Epoch 100/100\n",
      " - 0s - loss: 0.0856 - acc: 0.9662 - val_loss: 0.1484 - val_acc: 0.9434\n"
     ]
    }
   ],
   "source": [
    "history = model.fit(\n",
    "    X_train_sc,\n",
    "    y_train,\n",
    "    validation_data=(X_test_nn, y_test),\n",
    "    epochs=100,\n",
    "    batch_size=None,\n",
    "    verbose=2\n",
    ")"
   ]
  },
  {
   "cell_type": "code",
   "execution_count": 65,
   "metadata": {},
   "outputs": [
    {
     "data": {
      "image/png": "[encoded data removed]",
      "text/plain": [
       "<Figure size 864x576 with 1 Axes>"
      ]
     },
     "metadata": {},
     "output_type": "display_data"
    }
   ],
   "source": [
    "train_loss = history.history['loss']\n",
    "test_loss = history.history['val_loss']\n",
    "plt.figure(figsize=(12, 8))\n",
    "plt.plot(train_loss, label='Training loss', color='navy')\n",
    "plt.plot(test_loss, label='Testing loss', color='skyblue')\n",
    "plt.legend();"
   ]
  },
  {
   "cell_type": "code",
   "execution_count": 66,
   "metadata": {},
   "outputs": [
    {
     "data": {
      "text/plain": [
       "(0.9662132, 0.9434210658073425)"
      ]
     },
     "execution_count": 66,
     "metadata": {},
     "output_type": "execute_result"
    }
   ],
   "source": [
    "history.history['acc'][-1], history.history['val_acc'][-1]"
   ]
  },
  {
   "cell_type": "markdown",
   "metadata": {},
   "source": [
    "# Model Selection and Evaluation "
   ]
  },
  {
   "cell_type": "markdown",
   "metadata": {},
   "source": [
    "**Model performance at a glance :**\n",
    "\n",
    "**Baseline score = 0.67**\n",
    "\n",
    "| Sl. No     | Classifier | Train Score | Test Score |Cross Val Score |\n",
    "|------------|------------|-------------|------------|----------------|\n",
    "|  1         | LogisticReg| 0.92        | 0.92       | 0.92           |\n",
    "|  2         | KNN Model  | 0.96        | 0.95       | 0.95           |\n",
    "|  3         | Descn Tree | 0.96        | 0.95       | 0.95           |\n",
    "|  4         | Bgd. Tree  | 0.70        | 0.68       |\n",
    "|  5         | Rndm Frst  | 1.00        | 0.95       |\n",
    "|  6         | Extra Trees| 1.00        | 0.95       |\n",
    "|  5         | Neurl Ntwrk| 0.96        | 0.95       |\n",
    "\n",
    "Extra trees model produced 0.95 accuracy score - better than other machine models."
   ]
  },
  {
   "cell_type": "code",
   "execution_count": 67,
   "metadata": {},
   "outputs": [],
   "source": [
    "def c_confusion_matrix(y_true, y_pred):\n",
    "    # handling data\n",
    "    cm = confusion_matrix(y_true, y_pred)\n",
    "    labels = y_true.unique()\n",
    "    labels.sort()\n",
    "    \n",
    "    # plotting\n",
    "    sns.set(font_scale=1.2)\n",
    "    plt.figure(figsize=(10,4))\n",
    "    \n",
    "   \n",
    "    \n",
    "    sns.heatmap(cm, annot=True, fmt='g', cmap=\"BuPu\",xticklabels=labels, yticklabels=labels)\n",
    "    plt.title(\"Confusion Matrix\")\n",
    "    plt.xlabel('Predicted Churned Tenants')\n",
    "    plt.ylabel('True Churned Tenants')\n",
    "    \n",
    "    b, t = plt.ylim()\n",
    "    b += 0.8\n",
    "    t -= 0.8\n",
    "    plt.ylim(b, t)\n",
    "    "
   ]
  },
  {
   "cell_type": "markdown",
   "metadata": {},
   "source": [
    "## Confusion Matrix"
   ]
  },
  {
   "cell_type": "code",
   "execution_count": 68,
   "metadata": {},
   "outputs": [
    {
     "data": {
      "image/png": "[encoded data removed]",
      "text/plain": [
       "<Figure size 720x288 with 2 Axes>"
      ]
     },
     "metadata": {},
     "output_type": "display_data"
    }
   ],
   "source": [
    "preds = kn1_model.predict(X_test)\n",
    "c_confusion_matrix(y_test, preds)"
   ]
  },
  {
   "cell_type": "markdown",
   "metadata": {},
   "source": [
    " - The \"1\" which is 'Churned Tenant' category is predicted correctly => True positive score = 494\n",
    " - The \"1\" which is 'Churned Tenant' category is predicted incorrectly => False positive = 13\n",
    " - The \"0\" which is 'Current Tenant' category is predicted correctly => True negative = 241\n",
    " - The \"12\" which is 'Current Tenant' is predicted incorrectly => False positive = 4"
   ]
  },
  {
   "cell_type": "markdown",
   "metadata": {},
   "source": [
    "## ROC AUC Curve"
   ]
  },
  {
   "cell_type": "markdown",
   "metadata": {},
   "source": [
    "Receiver Operating Characteristic (ROC) Curve & Area under the ROC curve\n",
    "\n",
    "I am using Receiver Operating Characteristic curve to visualize the overlap between my positive class and negative class by moving our classification threshold from 0 to 1.\n",
    "\n",
    "I am using the area under the ROC curve (abbreviated ROC AUC or AUC ROC) to quantify the gap between our distributions."
   ]
  },
  {
   "cell_type": "code",
   "execution_count": 69,
   "metadata": {},
   "outputs": [],
   "source": [
    "pred_proba = [i[1] for i in et1_model.predict_proba(X_test)]\n",
    "pred_df = pd.DataFrame({'true_values': y_test,\n",
    "                        'pred_probs':pred_proba})"
   ]
  },
  {
   "cell_type": "code",
   "execution_count": 70,
   "metadata": {},
   "outputs": [
    {
     "data": {
      "text/plain": [
       "0.9996298513104839"
      ]
     },
     "execution_count": 70,
     "metadata": {},
     "output_type": "execute_result"
    }
   ],
   "source": [
    "from sklearn.metrics import roc_auc_score\n",
    "roc_auc_score(pred_df['true_values'], pred_df['pred_probs'])"
   ]
  },
  {
   "cell_type": "code",
   "execution_count": 71,
   "metadata": {},
   "outputs": [
    {
     "data": {
      "image/png": "[encoded data removed]",
      "text/plain": [
       "<Figure size 720x504 with 1 Axes>"
      ]
     },
     "metadata": {},
     "output_type": "display_data"
    }
   ],
   "source": [
    "# Create figure.\n",
    "plt.figure(figsize = (10,7))\n",
    "# Create threshold values.\n",
    "thresholds = np.linspace(0, 1, 200)\n",
    "# Define function to calculate sensitivity. (True positive rate.)\n",
    "def TPR(df, true_col, pred_prob_col, threshold):\n",
    "    true_positive = df[(df[true_col] == 1) & (df[pred_prob_col] >= threshold)].shape[0]\n",
    "    false_negative = df[(df[true_col] == 1) & (df[pred_prob_col] < threshold)].shape[0]\n",
    "    return true_positive / (true_positive + false_negative)\n",
    "# Define function to calculate 1 - specificity. (False positive rate.)\n",
    "def FPR(df, true_col, pred_prob_col, threshold):\n",
    "    true_negative = df[(df[true_col] == 0) & (df[pred_prob_col] <= threshold)].shape[0]\n",
    "    false_positive = df[(df[true_col] == 0) & (df[pred_prob_col] > threshold)].shape[0]\n",
    "    return 1 - (true_negative / (true_negative + false_positive))\n",
    "# Calculate sensitivity & 1-specificity for each threshold between 0 and 1.\n",
    "tpr_values = [TPR(pred_df, 'true_values', 'pred_probs', prob) for prob in thresholds]\n",
    "fpr_values = [FPR(pred_df, 'true_values', 'pred_probs', prob) for prob in thresholds]\n",
    "# Plot ROC curve.\n",
    "plt.plot(fpr_values, # False Positive Rate on X-axis\n",
    "         tpr_values, # True Positive Rate on Y-axis\n",
    "         label='ROC Curve')\n",
    "# Plot baseline. (Perfect overlap between the two populations.)\n",
    "plt.plot(np.linspace(0, 1, 200),\n",
    "         np.linspace(0, 1, 200),\n",
    "         label='baseline',\n",
    "         linestyle='--')\n",
    "# Label axes.\n",
    "plt.title(f'Churned Vs Current -  ROC Curve with AUC = {round(roc_auc_score(pred_df[\"true_values\"], pred_df[\"pred_probs\"]),3)}', fontsize=18)\n",
    "plt.ylabel('Sensitivity', fontsize=18)\n",
    "plt.xlabel('1 - Specificity', fontsize=18)\n",
    "# Create legend.\n",
    "plt.legend(fontsize=16);"
   ]
  },
  {
   "cell_type": "markdown",
   "metadata": {},
   "source": [
    "__Interpreting ROC AUC__\n",
    "\n",
    "We have an ROC AUC of 0.90 which is less than we would have liked( Which is close to 1) .In otherwords in our Extra trees model model our Tenant churn (positive) and Current Tenants (negative) populations are 90% perfectly separated. Looking at our model we can conclude that our model has scope to improve and needs to get as close as to 1."
   ]
  },
  {
   "cell_type": "markdown",
   "metadata": {},
   "source": [
    "## Feature Importance"
   ]
  },
  {
   "cell_type": "code",
   "execution_count": 72,
   "metadata": {},
   "outputs": [
    {
     "data": {
      "text/plain": [
       "Pipeline(memory=None,\n",
       "         steps=[('extra_trees',\n",
       "                 ExtraTreesClassifier(bootstrap=False, class_weight=None,\n",
       "                                      criterion='gini', max_depth=None,\n",
       "                                      max_features='auto', max_leaf_nodes=None,\n",
       "                                      min_impurity_decrease=0.0,\n",
       "                                      min_impurity_split=None,\n",
       "                                      min_samples_leaf=1, min_samples_split=2,\n",
       "                                      min_weight_fraction_leaf=0.0,\n",
       "                                      n_estimators=400, n_jobs=None,\n",
       "                                      oob_score=False, random_state=None,\n",
       "                                      verbose=0, warm_start=False))],\n",
       "         verbose=False)"
      ]
     },
     "execution_count": 72,
     "metadata": {},
     "output_type": "execute_result"
    }
   ],
   "source": [
    "# Best Estimator for GridSearch\n",
    "gs_extra_trees.best_estimator_"
   ]
  },
  {
   "cell_type": "code",
   "execution_count": 73,
   "metadata": {},
   "outputs": [
    {
     "data": {
      "image/png": "[encoded data removed]",
      "text/plain": [
       "<Figure size 648x432 with 1 Axes>"
      ]
     },
     "metadata": {},
     "output_type": "display_data"
    }
   ],
   "source": [
    "# getting the feature importances crom the model\n",
    "feats =gs_extra_trees.best_estimator_.steps[0][1].feature_importances_\n",
    "# getting keys of the test set\n",
    "keys = X_test.keys()\n",
    "# zipping the keys and feature importances\n",
    "feat_import = pd.DataFrame(list(zip(keys, feats)),\n",
    "                           columns=['feature', 'importance'])\n",
    "# sorting the dataframe by importance\n",
    "feat_import = feat_import.sort_values(by='importance', ascending=False)\n",
    "\n",
    "# plotting importance\n",
    "plt.figure(figsize=(9, 6))\n",
    "plt.title('Feature Importance', fontsize=25)\n",
    "sns.set_style(\"darkgrid\")\n",
    "sns.barplot(data=feat_import,\n",
    "            x='importance',\n",
    "            y='feature',\n",
    "            orient='h',\n",
    "            palette=\"BuPu\")\n",
    "plt.xlabel('importance', fontsize=15)\n",
    "plt.ylabel('feature', fontsize=15)\n",
    "plt.tick_params(labelsize=15)"
   ]
  },
  {
   "cell_type": "markdown",
   "metadata": {},
   "source": [
    "__Feature Importance Intrepretation__\n",
    "\n",
    "The above graph of Feature importance Months Occupied as the most important feature. The next important feature is ACH-Y i.e, if a tenant signed up for Automatic electronic payments. \n",
    "\n",
    " - We can infer from this findings that longer a tenant stays in a Unit he is less likely to churn / move-out. \n",
    "Armed with this information the landlords can give incentives to the tenants who are signing up for longterm lease contracts.\n",
    "\n",
    " - Another interesting findings is that the tenants who signed up for electronic payments tend to stay longer. \n"
   ]
  },
  {
   "cell_type": "markdown",
   "metadata": {},
   "source": [
    "## Model Coeficients"
   ]
  },
  {
   "cell_type": "code",
   "execution_count": 74,
   "metadata": {},
   "outputs": [
    {
     "data": {
      "image/png": "[encoded data removed]",
      "text/plain": [
       "<Figure size 648x432 with 1 Axes>"
      ]
     },
     "metadata": {},
     "output_type": "display_data"
    }
   ],
   "source": [
    "# getting the feature coefficiants crom the Logistic Regression model\n",
    "coefs = gs_log.best_estimator_.steps[1][1].coef_\n",
    "# getting keys of the test set\n",
    "keys = X_test.keys()\n",
    "# zipping the keys and feature importances\n",
    "feat_coef = pd.DataFrame(list(zip(keys, coefs[0])),\n",
    "                         columns=['feature', 'coefficient'])\n",
    "# sorting the dataframe by coefficients\n",
    "feat_coef = feat_coef.sort_values(by='coefficient', ascending=False)\n",
    "\n",
    "# plotting coefficients\n",
    "plt.figure(figsize=(9, 6))\n",
    "plt.title('Feature Coefficients', fontsize=25)\n",
    "sns.set_style(\"darkgrid\")\n",
    "sns.barplot(data=feat_coef,\n",
    "            x='coefficient',\n",
    "            y='feature',\n",
    "            orient='h',\n",
    "            palette=\"BuPu\")\n",
    "plt.xlabel('Coefficient', fontsize=15)\n",
    "plt.ylabel('Feature', fontsize=15)\n",
    "plt.tick_params(labelsize=10)"
   ]
  },
  {
   "cell_type": "markdown",
   "metadata": {},
   "source": [
    "__Feature Coefficients Intrepretation__"
   ]
  },
  {
   "cell_type": "markdown",
   "metadata": {},
   "source": [
    "The above graph of Feature coefficient shows positive correlation with Legal Rent and Grace Period (Days that a tenant can pay late). It shows a negative correlation with Tenants in automatic rent debit and Base Fee (The % of late fee collected on the rent) \n",
    "\n",
    " - We can infer from this findings that Low rent paying tenant tends to stay longer in a Unit  that is he is less likely to churn / move-out. \n",
    " \n",
    " - Another interesting findings is that the tenants who signed up for electronic payments tend to stay longer. \n"
   ]
  },
  {
   "cell_type": "markdown",
   "metadata": {},
   "source": [
    "## Conclusion"
   ]
  },
  {
   "cell_type": "markdown",
   "metadata": {},
   "source": [
    "\n",
    "With help of available data from Voyager a Property Management System I was able to predict Churned and Non Churned tenant with great accuracy. During the modeling process we found that few features have high (Positive and Negative) coefficients related for Tenant being Churned. __ACH-Y (Tenant Signed up for Auto debit of their  Rents)__ was a great indicator in our models. One of the __unusual findings__ is that the __Deposit__ and __Legal Rent__ didn't have much impact.\n",
    "\n",
    "One of the observation I found in our best performing model the Extra Tree Model is that the Train scores always performed much better than the and Test and Cross val score on the original dataset. Even after trying with different Random State I couldn't improve the Cross Val scores on the Original data set. This needs further investigation. \n",
    "\n",
    "While the model performed great we still have scope to improve by introducing the time elements to help the Property Managers taking informed decisions."
   ]
  },
  {
   "cell_type": "markdown",
   "metadata": {},
   "source": [
    "### Recommendations and furthur plans"
   ]
  },
  {
   "cell_type": "markdown",
   "metadata": {},
   "source": [
    "With the Machine Learning models performing well in predicting the Tenant classification, we would like to create a Generalized Linear Model to predict possibility of a Tenant churning with in a speficif time perdiod (say in the next 6 months). \n",
    "I have given sample approach in my recommendations here with a GLM modelmusing a Gamma function. \n",
    "\n",
    "I also would like to Engineer more features that can be used on a GLM model. "
   ]
  },
  {
   "cell_type": "markdown",
   "metadata": {},
   "source": [
    "__Future plans for predicting Tenant Churn using GLM with Gamma function__"
   ]
  },
  {
   "cell_type": "code",
   "execution_count": 75,
   "metadata": {},
   "outputs": [
    {
     "data": {
      "text/html": [
       "<table class=\"simpletable\">\n",
       "<caption>Generalized Linear Model Regression Results</caption>\n",
       "<tr>\n",
       "  <th>Dep. Variable:</th>     <td>Tenant_Status</td>  <th>  No. Observations:  </th>   <td>  3039</td>  \n",
       "</tr>\n",
       "<tr>\n",
       "  <th>Model:</th>                  <td>GLM</td>       <th>  Df Residuals:      </th>   <td>  3030</td>  \n",
       "</tr>\n",
       "<tr>\n",
       "  <th>Model Family:</th>          <td>Gamma</td>      <th>  Df Model:          </th>   <td>     8</td>  \n",
       "</tr>\n",
       "<tr>\n",
       "  <th>Link Function:</th>          <td>log</td>       <th>  Scale:             </th>  <td> 0.81990</td> \n",
       "</tr>\n",
       "<tr>\n",
       "  <th>Method:</th>                <td>IRLS</td>       <th>  Log-Likelihood:    </th>  <td>     inf</td> \n",
       "</tr>\n",
       "<tr>\n",
       "  <th>Date:</th>            <td>Wed, 11 Mar 2020</td> <th>  Deviance:          </th> <td>1.4266e+05</td>\n",
       "</tr>\n",
       "<tr>\n",
       "  <th>Time:</th>                <td>14:32:38</td>     <th>  Pearson chi2:      </th>  <td>2.48e+03</td> \n",
       "</tr>\n",
       "<tr>\n",
       "  <th>No. Iterations:</th>         <td>100</td>       <th>                     </th>      <td> </td>    \n",
       "</tr>\n",
       "<tr>\n",
       "  <th>Covariance Type:</th>     <td>nonrobust</td>    <th>                     </th>      <td> </td>    \n",
       "</tr>\n",
       "</table>\n",
       "<table class=\"simpletable\">\n",
       "<tr>\n",
       "         <td></td>            <th>coef</th>     <th>std err</th>      <th>z</th>      <th>P>|z|</th>  <th>[0.025</th>    <th>0.975]</th>  \n",
       "</tr>\n",
       "<tr>\n",
       "  <th>const</th>           <td>   -0.7419</td> <td>    0.022</td> <td>  -33.297</td> <td> 0.000</td> <td>   -0.786</td> <td>   -0.698</td>\n",
       "</tr>\n",
       "<tr>\n",
       "  <th>Rent</th>            <td> 4.344e-05</td> <td> 7.79e-07</td> <td>   55.799</td> <td> 0.000</td> <td> 4.19e-05</td> <td>  4.5e-05</td>\n",
       "</tr>\n",
       "<tr>\n",
       "  <th>Base</th>            <td>   -0.0030</td> <td> 3.65e-05</td> <td>  -81.701</td> <td> 0.000</td> <td>   -0.003</td> <td>   -0.003</td>\n",
       "</tr>\n",
       "<tr>\n",
       "  <th>Grace_Period</th>    <td>    0.0418</td> <td>    0.000</td> <td>  108.234</td> <td> 0.000</td> <td>    0.041</td> <td>    0.043</td>\n",
       "</tr>\n",
       "<tr>\n",
       "  <th>Legal_Rent</th>      <td> 1.717e-05</td> <td> 2.76e-07</td> <td>   62.254</td> <td> 0.000</td> <td> 1.66e-05</td> <td> 1.77e-05</td>\n",
       "</tr>\n",
       "<tr>\n",
       "  <th>Deposit</th>         <td>-2.317e-05</td> <td> 3.24e-07</td> <td>  -71.514</td> <td> 0.000</td> <td>-2.38e-05</td> <td>-2.25e-05</td>\n",
       "</tr>\n",
       "<tr>\n",
       "  <th>Roommates-Y</th>     <td>   -0.0003</td> <td>    0.001</td> <td>   -0.314</td> <td> 0.754</td> <td>   -0.002</td> <td>    0.001</td>\n",
       "</tr>\n",
       "<tr>\n",
       "  <th>ACH-Y</th>           <td>  -39.6423</td> <td>    0.022</td> <td>-1780.736</td> <td> 0.000</td> <td>  -39.686</td> <td>  -39.599</td>\n",
       "</tr>\n",
       "<tr>\n",
       "  <th>Months_Occupied</th> <td>   -0.0002</td> <td> 2.22e-05</td> <td>   -9.819</td> <td> 0.000</td> <td>   -0.000</td> <td>   -0.000</td>\n",
       "</tr>\n",
       "</table>"
      ],
      "text/plain": [
       "<class 'statsmodels.iolib.summary.Summary'>\n",
       "\"\"\"\n",
       "                 Generalized Linear Model Regression Results                  \n",
       "==============================================================================\n",
       "Dep. Variable:          Tenant_Status   No. Observations:                 3039\n",
       "Model:                            GLM   Df Residuals:                     3030\n",
       "Model Family:                   Gamma   Df Model:                            8\n",
       "Link Function:                    log   Scale:                         0.81990\n",
       "Method:                          IRLS   Log-Likelihood:                    inf\n",
       "Date:                Wed, 11 Mar 2020   Deviance:                   1.4266e+05\n",
       "Time:                        14:32:38   Pearson chi2:                 2.48e+03\n",
       "No. Iterations:                   100                                         \n",
       "Covariance Type:            nonrobust                                         \n",
       "===================================================================================\n",
       "                      coef    std err          z      P>|z|      [0.025      0.975]\n",
       "-----------------------------------------------------------------------------------\n",
       "const              -0.7419      0.022    -33.297      0.000      -0.786      -0.698\n",
       "Rent             4.344e-05   7.79e-07     55.799      0.000    4.19e-05     4.5e-05\n",
       "Base               -0.0030   3.65e-05    -81.701      0.000      -0.003      -0.003\n",
       "Grace_Period        0.0418      0.000    108.234      0.000       0.041       0.043\n",
       "Legal_Rent       1.717e-05   2.76e-07     62.254      0.000    1.66e-05    1.77e-05\n",
       "Deposit         -2.317e-05   3.24e-07    -71.514      0.000   -2.38e-05   -2.25e-05\n",
       "Roommates-Y        -0.0003      0.001     -0.314      0.754      -0.002       0.001\n",
       "ACH-Y             -39.6423      0.022  -1780.736      0.000     -39.686     -39.599\n",
       "Months_Occupied    -0.0002   2.22e-05     -9.819      0.000      -0.000      -0.000\n",
       "===================================================================================\n",
       "\"\"\""
      ]
     },
     "execution_count": 75,
     "metadata": {},
     "output_type": "execute_result"
    }
   ],
   "source": [
    "# adding y-intercept\n",
    "\n",
    "X = sm.add_constant(X)\n",
    "\n",
    "glm_gamma = sm.GLM(y,\n",
    "                  X,\n",
    "                  family = sm.families.Gamma(link = sm.families.links.log))\n",
    "\n",
    "# Fit\n",
    "fitted_glm_gamma = glm_gamma.fit()\n",
    "\n",
    "\n",
    "# Generating summary of model.\n",
    "fitted_glm_gamma.summary()"
   ]
  },
  {
   "cell_type": "code",
   "execution_count": 76,
   "metadata": {},
   "outputs": [
    {
     "data": {
      "text/plain": [
       "False"
      ]
     },
     "execution_count": 76,
     "metadata": {},
     "output_type": "execute_result"
    }
   ],
   "source": [
    "# checking if model converged\n",
    "fitted_glm_gamma.converged"
   ]
  },
  {
   "cell_type": "markdown",
   "metadata": {},
   "source": [
    "### Production Pipeline"
   ]
  },
  {
   "cell_type": "markdown",
   "metadata": {},
   "source": [
    "Since our model prototype has been established that surpassed the desired performance thresholds, it is ready for the production line. \n",
    "\n",
    "These are the thoughts for a production line can be thought of as the following:\n",
    "\n",
    " - Data injection from a data warehouse (In this case from Voyager - Business Application)\n",
    "\n",
    " - Model training update \n",
    "\n",
    " - Test and report the most recent model performance to the stakeholders\n",
    "\n",
    " - Loading the flagged users (potential churners) back to the database\n",
    "\n",
    "While  what should be done with the users that are churn-tagged remains an open question to product owners. A scientific approach is to run A/B tests on various segments of churners, optimize for a product, and experience change that increases user retention."
   ]
  },
  {
   "cell_type": "code",
   "execution_count": 77,
   "metadata": {},
   "outputs": [],
   "source": [
    "preds = rf1_model.predict(X_test)"
   ]
  },
  {
   "cell_type": "code",
   "execution_count": 78,
   "metadata": {},
   "outputs": [],
   "source": [
    "tc = combined_df.loc[X_test.index,'TCode']"
   ]
  },
  {
   "cell_type": "code",
   "execution_count": 79,
   "metadata": {},
   "outputs": [
    {
     "data": {
      "text/html": [
       "<div>\n",
       "<style scoped>\n",
       "    .dataframe tbody tr th:only-of-type {\n",
       "        vertical-align: middle;\n",
       "    }\n",
       "\n",
       "    .dataframe tbody tr th {\n",
       "        vertical-align: top;\n",
       "    }\n",
       "\n",
       "    .dataframe thead th {\n",
       "        text-align: right;\n",
       "    }\n",
       "</style>\n",
       "<table border=\"1\" class=\"dataframe\">\n",
       "  <thead>\n",
       "    <tr style=\"text-align: right;\">\n",
       "      <th></th>\n",
       "      <th>Tcodes</th>\n",
       "      <th>preds</th>\n",
       "    </tr>\n",
       "  </thead>\n",
       "  <tbody>\n",
       "    <tr>\n",
       "      <th>3778</th>\n",
       "      <td>t0007138</td>\n",
       "      <td>1.0</td>\n",
       "    </tr>\n",
       "    <tr>\n",
       "      <th>4934</th>\n",
       "      <td>t0015577</td>\n",
       "      <td>0.0</td>\n",
       "    </tr>\n",
       "    <tr>\n",
       "      <th>4845</th>\n",
       "      <td>t0015363</td>\n",
       "      <td>0.0</td>\n",
       "    </tr>\n",
       "    <tr>\n",
       "      <th>4859</th>\n",
       "      <td>t0015390</td>\n",
       "      <td>1.0</td>\n",
       "    </tr>\n",
       "    <tr>\n",
       "      <th>442</th>\n",
       "      <td>t0010438</td>\n",
       "      <td>0.0</td>\n",
       "    </tr>\n",
       "  </tbody>\n",
       "</table>\n",
       "</div>"
      ],
      "text/plain": [
       "        Tcodes  preds\n",
       "3778  t0007138    1.0\n",
       "4934  t0015577    0.0\n",
       "4845  t0015363    0.0\n",
       "4859  t0015390    1.0\n",
       "442   t0010438    0.0"
      ]
     },
     "execution_count": 79,
     "metadata": {},
     "output_type": "execute_result"
    }
   ],
   "source": [
    "new_df = pd.DataFrame({'Tcodes': tc, 'preds': preds})\n",
    "new_df.head()"
   ]
  },
  {
   "cell_type": "code",
   "execution_count": 80,
   "metadata": {},
   "outputs": [],
   "source": [
    "#writing ouput to csv\n",
    "new_df.to_csv(\"../output/Finalsubmission_kr\", index = False)"
   ]
  },
  {
   "cell_type": "markdown",
   "metadata": {},
   "source": [
    "### External Research"
   ]
  },
  {
   "cell_type": "markdown",
   "metadata": {},
   "source": [
    "![title](../assets/Property_Stats.png)  "
   ]
  },
  {
   "cell_type": "markdown",
   "metadata": {},
   "source": [
    "__Sources :__\n",
    " - Investopedia, “Property Manager.”\n",
    " - Property Manager Insider, “Best Undergraduate Degrees for Property Managers.”\n",
    " - Buildium, “2018 State of the Property Management Industry Report.”\n",
    " - IBISWorld, “Property Management in the U.S. – Market Research Report.”\n",
    " - Statista, “Rental Vacancy Rates in the United States 2000 to 2018 by Region.”"
   ]
  },
  {
   "cell_type": "code",
   "execution_count": null,
   "metadata": {},
   "outputs": [],
   "source": []
  },
  {
   "cell_type": "code",
   "execution_count": 81,
   "metadata": {},
   "outputs": [],
   "source": [
    "pickle.dump(gs_et1, open('../output/model.pkl', 'wb'))"
   ]
  },
  {
   "cell_type": "code",
   "execution_count": null,
   "metadata": {},
   "outputs": [],
   "source": []
  }
 ],
 "metadata": {
  "kernelspec": {
   "display_name": "Python 3",
   "language": "python",
   "name": "python3"
  },
  "language_info": {
   "codemirror_mode": {
    "name": "ipython",
    "version": 3
   },
   "file_extension": ".py",
   "mimetype": "text/x-python",
   "name": "python",
   "nbconvert_exporter": "python",
   "pygments_lexer": "ipython3",
   "version": "3.7.3"
  },
  "toc": {
   "base_numbering": 1,
   "nav_menu": {},
   "number_sections": true,
   "sideBar": true,
   "skip_h1_title": false,
   "title_cell": "Table of Contents",
   "title_sidebar": "Contents",
   "toc_cell": false,
   "toc_position": {
    "height": "calc(100% - 180px)",
    "left": "10px",
    "top": "150px",
    "width": "230.4px"
   },
   "toc_section_display": true,
   "toc_window_display": true
  }
 },
 "nbformat": 4,
 "nbformat_minor": 2
}
