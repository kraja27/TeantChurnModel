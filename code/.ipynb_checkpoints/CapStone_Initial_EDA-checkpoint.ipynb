{
 "cells": [
  {
   "cell_type": "markdown",
   "metadata": {},
   "source": [
    "# Tenant Churn Model to predict the tenant turnover with the past data - Data Collection phase.\n",
    "\n",
    "- By: [Kathirvel Kumararaja]()"
   ]
  },
  {
   "cell_type": "markdown",
   "metadata": {},
   "source": [
    "__Data Dictionary__"
   ]
  },
  {
   "cell_type": "markdown",
   "metadata": {},
   "source": [
    "|Tenant Traffic|Type|Dataset|Description|\n",
    "|---|---|---|---|\n",
    "|Unit|float|Tenant_traffic|This field represents Unique identification of rental units| \n",
    "|Tcode|int|Tenant_traffic|Represent the read/write score| \n",
    "|Rent|int|Tenant_traffic|This field represent the Rent of the Unit| \n",
    "|Base|int|Tenant_traffic|This field represent the Mean Late fee calculation condition| \n",
    "|Criteria|float|Tenant_traffic|This field represent the % of participation| \n",
    "|Grace_Period|int|Tenant_traffic|Represent the read/write score| \n",
    "|Legal_Rent|int|Tenant_traffic|This field represent the Legal Rent a Tenant can collect| \n",
    "|Deposit|int|Tenant_traffic|This field represent the Deposit held by the landlord| \n",
    "|From|float|Tenant_traffic|This field represent the Lease Starting Month| \n",
    "|To|int|Tenant_traffic|Represent the the Lease Ending Month| \n",
    "|Move_In|int|Tenant_traffic|This field represent the Date Tenant Moved In| \n",
    "|Move_Out|int|Tenant_traffic|This field represent the Date Tenant Moved Out| \n",
    "|Months_Occupied|int|Tenant_traffic|This field represent the number of months tenant| \n",
    "|Last_Renewal|int|Tenant_traffic|This field represent the Last Renewal date| \n",
    "|Tenant_Status|float|Tenant_traffic|This field represent the status Current or Pat| \n",
    "|Roommates-Y|int|Tenant_traffic|Represent the read/write score| \n",
    "|ACH-Y|int|Tenant_traffic|This field signed up for ACH payments| "
   ]
  },
  {
   "cell_type": "code",
   "execution_count": 1,
   "metadata": {},
   "outputs": [
    {
     "name": "stderr",
     "output_type": "stream",
     "text": [
      "/Users/kraja/anaconda3/lib/python3.7/site-packages/statsmodels/tools/_testing.py:19: FutureWarning: pandas.util.testing is deprecated. Use the functions in the public API at pandas.testing instead.\n",
      "  import pandas.util.testing as tm\n"
     ]
    }
   ],
   "source": [
    "import numpy as np\n",
    "import pandas as pd\n",
    "import datetime as dt\n",
    "import time\n",
    "import requests\n",
    "\n",
    "import seaborn as sns\n",
    "import matplotlib.pyplot as plt\n",
    "\n",
    "from sklearn.pipeline import Pipeline\n",
    "from sklearn.model_selection import cross_val_score, train_test_split, GridSearchCV\n",
    "from sklearn.linear_model import LogisticRegression\n",
    "\n",
    "from sklearn.metrics import confusion_matrix\n",
    "\n",
    "import pandas as pd\n",
    "from sklearn.model_selection import train_test_split, GridSearchCV\n",
    "from sklearn.pipeline import Pipeline\n",
    "from sklearn.linear_model import LogisticRegression\n",
    "from sklearn.naive_bayes import MultinomialNB\n",
    "from sklearn.ensemble import RandomForestClassifier, ExtraTreesClassifier\n",
    "from nltk.stem import PorterStemmer\n",
    "import datetime as dt\n",
    "import time\n",
    "\n",
    "from sklearn.metrics import roc_auc_score\n",
    "\n",
    "# Import CountVectorizer and TFIDFVectorizer from feature_extraction.text.\n",
    "from sklearn.feature_extraction.text import CountVectorizer, TfidfVectorizer\n",
    "import regex as re\n",
    "import nltk\n",
    "from nltk.stem import WordNetLemmatizer\n",
    "import warnings\n",
    "warnings.filterwarnings(\"ignore\") \n",
    "#importing stats model for GLM\n",
    "import warnings\n",
    "\n",
    "warnings.filterwarnings(\"ignore\") # Shhhh\n",
    "\n",
    "import statsmodels.api as sm\n",
    "from sklearn.datasets import make_regression, make_multilabel_classification\n",
    "\n",
    "#importing GaussianNB\n",
    "\n",
    "from sklearn.naive_bayes import GaussianNB\n",
    "from sklearn.base import TransformerMixin # this allows us to create a custom transformer\n",
    "\n",
    "%matplotlib inline\n",
    "\n",
    "\n",
    "\n",
    "import matplotlib.pyplot as plt\n",
    "import seaborn as sns\n",
    "from sklearn.model_selection import cross_val_score, train_test_split, GridSearchCV\n",
    "from sklearn.linear_model import LogisticRegression\n",
    "from sklearn.naive_bayes import MultinomialNB, GaussianNB\n",
    "from sklearn.neighbors import KNeighborsClassifier\n",
    "from sklearn.svm import SVC\n",
    "from sklearn.ensemble import BaggingClassifier, RandomForestClassifier, ExtraTreesClassifier\n",
    "from sklearn.tree import DecisionTreeClassifier\n",
    "from sklearn.metrics import confusion_matrix, roc_auc_score\n",
    "from sklearn.preprocessing import StandardScaler, MinMaxScaler\n",
    "from sklearn.preprocessing import PolynomialFeatures\n",
    "from sklearn.linear_model import LinearRegression, RidgeCV, LassoCV, Lasso, ElasticNetCV\n",
    "from sklearn.pipeline import Pipeline\n",
    "from sklearn.datasets import make_classification\n",
    "from sklearn.ensemble import GradientBoostingClassifier, AdaBoostClassifier, VotingClassifier, RandomForestClassifier\n",
    "from sklearn.tree import DecisionTreeClassifier\n",
    "from sklearn.neighbors import KNeighborsClassifier\n",
    "\n",
    "\n",
    "\n",
    "import warnings\n",
    "warnings.filterwarnings('ignore')\n",
    "\n"
   ]
  },
  {
   "cell_type": "code",
   "execution_count": 2,
   "metadata": {},
   "outputs": [],
   "source": [
    "#Read the data for resident info\n",
    "#df = pd.read_csv(\"../datasets/TenantInfo_V1.csv\")\n",
    "df = pd.read_csv(\"../datasets/TenantInfo_Final.csv\")"
   ]
  },
  {
   "cell_type": "code",
   "execution_count": 3,
   "metadata": {},
   "outputs": [
    {
     "data": {
      "text/html": [
       "<div>\n",
       "<style scoped>\n",
       "    .dataframe tbody tr th:only-of-type {\n",
       "        vertical-align: middle;\n",
       "    }\n",
       "\n",
       "    .dataframe tbody tr th {\n",
       "        vertical-align: top;\n",
       "    }\n",
       "\n",
       "    .dataframe thead th {\n",
       "        text-align: right;\n",
       "    }\n",
       "</style>\n",
       "<table border=\"1\" class=\"dataframe\">\n",
       "  <thead>\n",
       "    <tr style=\"text-align: right;\">\n",
       "      <th></th>\n",
       "      <th>Unit</th>\n",
       "      <th>TCode</th>\n",
       "      <th>Rent</th>\n",
       "      <th>Base</th>\n",
       "      <th>Criteria</th>\n",
       "      <th>Grace_Period</th>\n",
       "      <th>Legal_Rent</th>\n",
       "      <th>Deposit</th>\n",
       "      <th>From</th>\n",
       "      <th>To</th>\n",
       "      <th>Move_In</th>\n",
       "      <th>Move_Out</th>\n",
       "      <th>Months_Occupied</th>\n",
       "      <th>Last_Renewal</th>\n",
       "      <th>Tenant_Status</th>\n",
       "      <th>Roommates-Y</th>\n",
       "      <th>ACH-Y</th>\n",
       "    </tr>\n",
       "  </thead>\n",
       "  <tbody>\n",
       "    <tr>\n",
       "      <th>0</th>\n",
       "      <td>1-1A</td>\n",
       "      <td>t0007336</td>\n",
       "      <td>1,791.00</td>\n",
       "      <td>5.0</td>\n",
       "      <td>% Monthly Rent</td>\n",
       "      <td>5.0</td>\n",
       "      <td>3,525.59</td>\n",
       "      <td>0.00</td>\n",
       "      <td>10/31/15</td>\n",
       "      <td>10/31/17</td>\n",
       "      <td>10/31/15</td>\n",
       "      <td>12/31/16</td>\n",
       "      <td>14</td>\n",
       "      <td>NaN</td>\n",
       "      <td>Past</td>\n",
       "      <td>Y</td>\n",
       "      <td>N</td>\n",
       "    </tr>\n",
       "    <tr>\n",
       "      <th>1</th>\n",
       "      <td>1-1A</td>\n",
       "      <td>t0010441</td>\n",
       "      <td>1,720.00</td>\n",
       "      <td>50.0</td>\n",
       "      <td>Flat Amount</td>\n",
       "      <td>5.0</td>\n",
       "      <td>3,525.59</td>\n",
       "      <td>3,439.60</td>\n",
       "      <td>03/01/19</td>\n",
       "      <td>02/28/21</td>\n",
       "      <td>02/24/17</td>\n",
       "      <td>NaN</td>\n",
       "      <td>-1426</td>\n",
       "      <td>01/25/19</td>\n",
       "      <td>Current</td>\n",
       "      <td>Y</td>\n",
       "      <td>Y</td>\n",
       "    </tr>\n",
       "    <tr>\n",
       "      <th>2</th>\n",
       "      <td>1-1C</td>\n",
       "      <td>t0008389</td>\n",
       "      <td>1,889.00</td>\n",
       "      <td>5.0</td>\n",
       "      <td>% Monthly Rent</td>\n",
       "      <td>5.0</td>\n",
       "      <td>4,569.38</td>\n",
       "      <td>0.00</td>\n",
       "      <td>03/31/16</td>\n",
       "      <td>03/31/18</td>\n",
       "      <td>03/31/16</td>\n",
       "      <td>3/31/18</td>\n",
       "      <td>24</td>\n",
       "      <td>NaN</td>\n",
       "      <td>Past</td>\n",
       "      <td>Y</td>\n",
       "      <td>N</td>\n",
       "    </tr>\n",
       "    <tr>\n",
       "      <th>3</th>\n",
       "      <td>1-1C</td>\n",
       "      <td>t0013455</td>\n",
       "      <td>1,829.00</td>\n",
       "      <td>50.0</td>\n",
       "      <td>Flat Amount</td>\n",
       "      <td>5.0</td>\n",
       "      <td>4,569.38</td>\n",
       "      <td>4,569.38</td>\n",
       "      <td>05/29/18</td>\n",
       "      <td>05/31/20</td>\n",
       "      <td>05/29/18</td>\n",
       "      <td>NaN</td>\n",
       "      <td>-1442</td>\n",
       "      <td>NaN</td>\n",
       "      <td>Current</td>\n",
       "      <td>Y</td>\n",
       "      <td>Y</td>\n",
       "    </tr>\n",
       "    <tr>\n",
       "      <th>4</th>\n",
       "      <td>1-1E</td>\n",
       "      <td>t0014677</td>\n",
       "      <td>0.00</td>\n",
       "      <td>5.0</td>\n",
       "      <td>% Owed-month</td>\n",
       "      <td>5.0</td>\n",
       "      <td>4,092.53</td>\n",
       "      <td>0.00</td>\n",
       "      <td>01/31/19</td>\n",
       "      <td>01/31/21</td>\n",
       "      <td>01/31/19</td>\n",
       "      <td>NaN</td>\n",
       "      <td>-1450</td>\n",
       "      <td>NaN</td>\n",
       "      <td>Applicant</td>\n",
       "      <td>N</td>\n",
       "      <td>N</td>\n",
       "    </tr>\n",
       "  </tbody>\n",
       "</table>\n",
       "</div>"
      ],
      "text/plain": [
       "   Unit     TCode      Rent  Base        Criteria  Grace_Period Legal_Rent  \\\n",
       "0  1-1A  t0007336  1,791.00   5.0  % Monthly Rent           5.0   3,525.59   \n",
       "1  1-1A  t0010441  1,720.00  50.0     Flat Amount           5.0   3,525.59   \n",
       "2  1-1C  t0008389  1,889.00   5.0  % Monthly Rent           5.0   4,569.38   \n",
       "3  1-1C  t0013455  1,829.00  50.0     Flat Amount           5.0   4,569.38   \n",
       "4  1-1E  t0014677      0.00   5.0    % Owed-month           5.0   4,092.53   \n",
       "\n",
       "     Deposit       From         To    Move_In   Move_Out  Months_Occupied  \\\n",
       "0      0.00    10/31/15   10/31/17   10/31/15   12/31/16               14   \n",
       "1  3,439.60    03/01/19   02/28/21   02/24/17        NaN            -1426   \n",
       "2      0.00    03/31/16   03/31/18   03/31/16    3/31/18               24   \n",
       "3  4,569.38    05/29/18   05/31/20   05/29/18        NaN            -1442   \n",
       "4      0.00    01/31/19   01/31/21   01/31/19        NaN            -1450   \n",
       "\n",
       "  Last_Renewal Tenant_Status Roommates-Y ACH-Y  \n",
       "0          NaN          Past           Y     N  \n",
       "1     01/25/19       Current           Y     Y  \n",
       "2          NaN          Past           Y     N  \n",
       "3          NaN       Current           Y     Y  \n",
       "4          NaN     Applicant           N     N  "
      ]
     },
     "execution_count": 3,
     "metadata": {},
     "output_type": "execute_result"
    }
   ],
   "source": [
    "df.head()"
   ]
  },
  {
   "cell_type": "code",
   "execution_count": 4,
   "metadata": {},
   "outputs": [],
   "source": [
    "# Our Modeling data frame will have only data relate to past tenants.\n",
    "df_past = df[df['Tenant_Status'] == 'Past']"
   ]
  },
  {
   "cell_type": "code",
   "execution_count": 5,
   "metadata": {},
   "outputs": [],
   "source": [
    "df_current = df[df['Tenant_Status'] == 'Current']"
   ]
  },
  {
   "cell_type": "code",
   "execution_count": 6,
   "metadata": {},
   "outputs": [
    {
     "data": {
      "text/plain": [
       "(2031, 17)"
      ]
     },
     "execution_count": 6,
     "metadata": {},
     "output_type": "execute_result"
    }
   ],
   "source": [
    "df_current.shape"
   ]
  },
  {
   "cell_type": "code",
   "execution_count": 7,
   "metadata": {},
   "outputs": [
    {
     "data": {
      "text/plain": [
       "(1019, 17)"
      ]
     },
     "execution_count": 7,
     "metadata": {},
     "output_type": "execute_result"
    }
   ],
   "source": [
    "df_past.shape"
   ]
  },
  {
   "cell_type": "code",
   "execution_count": 8,
   "metadata": {},
   "outputs": [],
   "source": [
    "# combining both the dataframes using concatenate\n",
    "combined_df = pd.concat(objs = [df_past, df_current],\n",
    "                    axis = 0)"
   ]
  },
  {
   "cell_type": "code",
   "execution_count": 9,
   "metadata": {},
   "outputs": [
    {
     "data": {
      "text/plain": [
       "(3050, 17)"
      ]
     },
     "execution_count": 9,
     "metadata": {},
     "output_type": "execute_result"
    }
   ],
   "source": [
    "combined_df.shape"
   ]
  },
  {
   "cell_type": "code",
   "execution_count": 10,
   "metadata": {},
   "outputs": [
    {
     "data": {
      "text/plain": [
       "Index(['Unit', 'TCode', 'Rent', 'Base', 'Criteria', 'Grace_Period',\n",
       "       'Legal_Rent', 'Deposit', 'From', 'To', 'Move_In', 'Move_Out',\n",
       "       'Months_Occupied', 'Last_Renewal', 'Tenant_Status', 'Roommates-Y',\n",
       "       'ACH-Y'],\n",
       "      dtype='object')"
      ]
     },
     "execution_count": 10,
     "metadata": {},
     "output_type": "execute_result"
    }
   ],
   "source": [
    "combined_df.columns"
   ]
  },
  {
   "cell_type": "code",
   "execution_count": 11,
   "metadata": {},
   "outputs": [
    {
     "data": {
      "text/plain": [
       "Unit                  0\n",
       "TCode                 0\n",
       "Rent                  0\n",
       "Base                 57\n",
       "Criteria              0\n",
       "Grace_Period          0\n",
       "Legal_Rent          436\n",
       "Deposit              82\n",
       "From                  1\n",
       "To                  353\n",
       "Move_In               0\n",
       "Move_Out           2042\n",
       "Months_Occupied       0\n",
       "Last_Renewal       1985\n",
       "Tenant_Status         0\n",
       "Roommates-Y           0\n",
       "ACH-Y                 0\n",
       "dtype: int64"
      ]
     },
     "execution_count": 11,
     "metadata": {},
     "output_type": "execute_result"
    }
   ],
   "source": [
    "combined_df.isnull().sum()"
   ]
  },
  {
   "cell_type": "code",
   "execution_count": 12,
   "metadata": {},
   "outputs": [
    {
     "data": {
      "text/html": [
       "<div>\n",
       "<style scoped>\n",
       "    .dataframe tbody tr th:only-of-type {\n",
       "        vertical-align: middle;\n",
       "    }\n",
       "\n",
       "    .dataframe tbody tr th {\n",
       "        vertical-align: top;\n",
       "    }\n",
       "\n",
       "    .dataframe thead th {\n",
       "        text-align: right;\n",
       "    }\n",
       "</style>\n",
       "<table border=\"1\" class=\"dataframe\">\n",
       "  <thead>\n",
       "    <tr style=\"text-align: right;\">\n",
       "      <th></th>\n",
       "      <th>Unit</th>\n",
       "      <th>TCode</th>\n",
       "      <th>Rent</th>\n",
       "      <th>Base</th>\n",
       "      <th>Criteria</th>\n",
       "      <th>Grace_Period</th>\n",
       "      <th>Legal_Rent</th>\n",
       "      <th>Deposit</th>\n",
       "      <th>From</th>\n",
       "      <th>To</th>\n",
       "      <th>Move_In</th>\n",
       "      <th>Move_Out</th>\n",
       "      <th>Months_Occupied</th>\n",
       "      <th>Last_Renewal</th>\n",
       "      <th>Tenant_Status</th>\n",
       "      <th>Roommates-Y</th>\n",
       "      <th>ACH-Y</th>\n",
       "    </tr>\n",
       "  </thead>\n",
       "  <tbody>\n",
       "    <tr>\n",
       "      <th>0</th>\n",
       "      <td>1-1A</td>\n",
       "      <td>t0007336</td>\n",
       "      <td>1,791.00</td>\n",
       "      <td>5.0</td>\n",
       "      <td>% Monthly Rent</td>\n",
       "      <td>5.0</td>\n",
       "      <td>3,525.59</td>\n",
       "      <td>0.00</td>\n",
       "      <td>10/31/15</td>\n",
       "      <td>10/31/17</td>\n",
       "      <td>10/31/15</td>\n",
       "      <td>12/31/16</td>\n",
       "      <td>14</td>\n",
       "      <td>0</td>\n",
       "      <td>Past</td>\n",
       "      <td>Y</td>\n",
       "      <td>N</td>\n",
       "    </tr>\n",
       "    <tr>\n",
       "      <th>2</th>\n",
       "      <td>1-1C</td>\n",
       "      <td>t0008389</td>\n",
       "      <td>1,889.00</td>\n",
       "      <td>5.0</td>\n",
       "      <td>% Monthly Rent</td>\n",
       "      <td>5.0</td>\n",
       "      <td>4,569.38</td>\n",
       "      <td>0.00</td>\n",
       "      <td>03/31/16</td>\n",
       "      <td>03/31/18</td>\n",
       "      <td>03/31/16</td>\n",
       "      <td>3/31/18</td>\n",
       "      <td>24</td>\n",
       "      <td>0</td>\n",
       "      <td>Past</td>\n",
       "      <td>Y</td>\n",
       "      <td>N</td>\n",
       "    </tr>\n",
       "    <tr>\n",
       "      <th>12</th>\n",
       "      <td>1-2F</td>\n",
       "      <td>t0008667</td>\n",
       "      <td>1,815.00</td>\n",
       "      <td>5.0</td>\n",
       "      <td>% Monthly Rent</td>\n",
       "      <td>5.0</td>\n",
       "      <td>3,893.10</td>\n",
       "      <td>2,549.00</td>\n",
       "      <td>05/01/18</td>\n",
       "      <td>04/30/20</td>\n",
       "      <td>05/01/16</td>\n",
       "      <td>5/1/18</td>\n",
       "      <td>24</td>\n",
       "      <td>04/09/18</td>\n",
       "      <td>Past</td>\n",
       "      <td>Y</td>\n",
       "      <td>N</td>\n",
       "    </tr>\n",
       "    <tr>\n",
       "      <th>13</th>\n",
       "      <td>1-2F</td>\n",
       "      <td>t0013355</td>\n",
       "      <td>1,875.00</td>\n",
       "      <td>50.0</td>\n",
       "      <td>Flat Amount</td>\n",
       "      <td>5.0</td>\n",
       "      <td>3,893.10</td>\n",
       "      <td>3,649.00</td>\n",
       "      <td>05/01/18</td>\n",
       "      <td>04/30/20</td>\n",
       "      <td>05/01/18</td>\n",
       "      <td>12/31/19</td>\n",
       "      <td>20</td>\n",
       "      <td>0</td>\n",
       "      <td>Past</td>\n",
       "      <td>Y</td>\n",
       "      <td>N</td>\n",
       "    </tr>\n",
       "    <tr>\n",
       "      <th>21</th>\n",
       "      <td>1-4C</td>\n",
       "      <td>t0008216</td>\n",
       "      <td>1,889.00</td>\n",
       "      <td>5.0</td>\n",
       "      <td>% Monthly Rent</td>\n",
       "      <td>5.0</td>\n",
       "      <td>5,381.15</td>\n",
       "      <td>0.00</td>\n",
       "      <td>04/01/18</td>\n",
       "      <td>03/31/20</td>\n",
       "      <td>03/28/16</td>\n",
       "      <td>8/31/18</td>\n",
       "      <td>30</td>\n",
       "      <td>03/23/18</td>\n",
       "      <td>Past</td>\n",
       "      <td>Y</td>\n",
       "      <td>N</td>\n",
       "    </tr>\n",
       "    <tr>\n",
       "      <th>...</th>\n",
       "      <td>...</td>\n",
       "      <td>...</td>\n",
       "      <td>...</td>\n",
       "      <td>...</td>\n",
       "      <td>...</td>\n",
       "      <td>...</td>\n",
       "      <td>...</td>\n",
       "      <td>...</td>\n",
       "      <td>...</td>\n",
       "      <td>...</td>\n",
       "      <td>...</td>\n",
       "      <td>...</td>\n",
       "      <td>...</td>\n",
       "      <td>...</td>\n",
       "      <td>...</td>\n",
       "      <td>...</td>\n",
       "      <td>...</td>\n",
       "    </tr>\n",
       "    <tr>\n",
       "      <th>4934</th>\n",
       "      <td>53-3R</td>\n",
       "      <td>t0015545</td>\n",
       "      <td>1,471.25</td>\n",
       "      <td>50.0</td>\n",
       "      <td>Flat Amount</td>\n",
       "      <td>5.0</td>\n",
       "      <td>1,804.62</td>\n",
       "      <td>0.00</td>\n",
       "      <td>10/05/18</td>\n",
       "      <td>10/31/19</td>\n",
       "      <td>10/04/18</td>\n",
       "      <td>10/30/19</td>\n",
       "      <td>13</td>\n",
       "      <td>0</td>\n",
       "      <td>Past</td>\n",
       "      <td>Y</td>\n",
       "      <td>N</td>\n",
       "    </tr>\n",
       "    <tr>\n",
       "      <th>4935</th>\n",
       "      <td>53-3S</td>\n",
       "      <td>t0015546</td>\n",
       "      <td>1,537.50</td>\n",
       "      <td>50.0</td>\n",
       "      <td>Flat Amount</td>\n",
       "      <td>5.0</td>\n",
       "      <td>1,837.16</td>\n",
       "      <td>1,500.00</td>\n",
       "      <td>11/01/18</td>\n",
       "      <td>10/31/19</td>\n",
       "      <td>10/29/18</td>\n",
       "      <td>11/2/19</td>\n",
       "      <td>12</td>\n",
       "      <td>0</td>\n",
       "      <td>Past</td>\n",
       "      <td>Y</td>\n",
       "      <td>N</td>\n",
       "    </tr>\n",
       "    <tr>\n",
       "      <th>4940</th>\n",
       "      <td>53-4M</td>\n",
       "      <td>t0015559</td>\n",
       "      <td>1,788.11</td>\n",
       "      <td>50.0</td>\n",
       "      <td>Flat Amount</td>\n",
       "      <td>5.0</td>\n",
       "      <td>1,744.50</td>\n",
       "      <td>0.00</td>\n",
       "      <td>11/01/17</td>\n",
       "      <td>10/31/19</td>\n",
       "      <td>10/14/16</td>\n",
       "      <td>10/28/19</td>\n",
       "      <td>37</td>\n",
       "      <td>0</td>\n",
       "      <td>Past</td>\n",
       "      <td>Y</td>\n",
       "      <td>N</td>\n",
       "    </tr>\n",
       "    <tr>\n",
       "      <th>4956</th>\n",
       "      <td>53-6K</td>\n",
       "      <td>t0015592</td>\n",
       "      <td>1,775.00</td>\n",
       "      <td>50.0</td>\n",
       "      <td>Flat Amount</td>\n",
       "      <td>5.0</td>\n",
       "      <td>2,289.81</td>\n",
       "      <td>1,775.00</td>\n",
       "      <td>10/01/19</td>\n",
       "      <td>09/30/21</td>\n",
       "      <td>09/21/15</td>\n",
       "      <td>8/22/19</td>\n",
       "      <td>48</td>\n",
       "      <td>07/31/19</td>\n",
       "      <td>Past</td>\n",
       "      <td>Y</td>\n",
       "      <td>N</td>\n",
       "    </tr>\n",
       "    <tr>\n",
       "      <th>4963</th>\n",
       "      <td>53-LK</td>\n",
       "      <td>t0015621</td>\n",
       "      <td>1,775.00</td>\n",
       "      <td>0.0</td>\n",
       "      <td>% Owed-total</td>\n",
       "      <td>0.0</td>\n",
       "      <td>0.00</td>\n",
       "      <td>0.00</td>\n",
       "      <td>06/17/19</td>\n",
       "      <td>0</td>\n",
       "      <td>06/01/19</td>\n",
       "      <td>12/30/19</td>\n",
       "      <td>7</td>\n",
       "      <td>0</td>\n",
       "      <td>Past</td>\n",
       "      <td>N</td>\n",
       "      <td>N</td>\n",
       "    </tr>\n",
       "  </tbody>\n",
       "</table>\n",
       "<p>1019 rows × 17 columns</p>\n",
       "</div>"
      ],
      "text/plain": [
       "       Unit     TCode      Rent  Base        Criteria  Grace_Period  \\\n",
       "0      1-1A  t0007336  1,791.00   5.0  % Monthly Rent           5.0   \n",
       "2      1-1C  t0008389  1,889.00   5.0  % Monthly Rent           5.0   \n",
       "12     1-2F  t0008667  1,815.00   5.0  % Monthly Rent           5.0   \n",
       "13     1-2F  t0013355  1,875.00  50.0     Flat Amount           5.0   \n",
       "21     1-4C  t0008216  1,889.00   5.0  % Monthly Rent           5.0   \n",
       "...     ...       ...       ...   ...             ...           ...   \n",
       "4934  53-3R  t0015545  1,471.25  50.0     Flat Amount           5.0   \n",
       "4935  53-3S  t0015546  1,537.50  50.0     Flat Amount           5.0   \n",
       "4940  53-4M  t0015559  1,788.11  50.0     Flat Amount           5.0   \n",
       "4956  53-6K  t0015592  1,775.00  50.0     Flat Amount           5.0   \n",
       "4963  53-LK  t0015621  1,775.00   0.0    % Owed-total           0.0   \n",
       "\n",
       "     Legal_Rent    Deposit       From         To    Move_In   Move_Out  \\\n",
       "0      3,525.59      0.00    10/31/15   10/31/17   10/31/15   12/31/16   \n",
       "2      4,569.38      0.00    03/31/16   03/31/18   03/31/16    3/31/18   \n",
       "12     3,893.10  2,549.00    05/01/18   04/30/20   05/01/16     5/1/18   \n",
       "13     3,893.10  3,649.00    05/01/18   04/30/20   05/01/18   12/31/19   \n",
       "21     5,381.15      0.00    04/01/18   03/31/20   03/28/16    8/31/18   \n",
       "...         ...        ...        ...        ...        ...        ...   \n",
       "4934   1,804.62      0.00    10/05/18   10/31/19   10/04/18   10/30/19   \n",
       "4935   1,837.16  1,500.00    11/01/18   10/31/19   10/29/18    11/2/19   \n",
       "4940   1,744.50      0.00    11/01/17   10/31/19   10/14/16   10/28/19   \n",
       "4956   2,289.81  1,775.00    10/01/19   09/30/21   09/21/15    8/22/19   \n",
       "4963       0.00      0.00    06/17/19          0   06/01/19   12/30/19   \n",
       "\n",
       "      Months_Occupied Last_Renewal Tenant_Status Roommates-Y ACH-Y  \n",
       "0                  14            0          Past           Y     N  \n",
       "2                  24            0          Past           Y     N  \n",
       "12                 24     04/09/18          Past           Y     N  \n",
       "13                 20            0          Past           Y     N  \n",
       "21                 30     03/23/18          Past           Y     N  \n",
       "...               ...          ...           ...         ...   ...  \n",
       "4934               13            0          Past           Y     N  \n",
       "4935               12            0          Past           Y     N  \n",
       "4940               37            0          Past           Y     N  \n",
       "4956               48     07/31/19          Past           Y     N  \n",
       "4963                7            0          Past           N     N  \n",
       "\n",
       "[1019 rows x 17 columns]"
      ]
     },
     "execution_count": 12,
     "metadata": {},
     "output_type": "execute_result"
    }
   ],
   "source": [
    "df_past.fillna(0)"
   ]
  },
  {
   "cell_type": "code",
   "execution_count": 13,
   "metadata": {},
   "outputs": [
    {
     "data": {
      "text/plain": [
       "949"
      ]
     },
     "execution_count": 13,
     "metadata": {},
     "output_type": "execute_result"
    }
   ],
   "source": [
    "df_past.isnull().sum().sum()"
   ]
  },
  {
   "cell_type": "code",
   "execution_count": 14,
   "metadata": {},
   "outputs": [
    {
     "data": {
      "text/plain": [
       "Index(['Unit', 'TCode', 'Rent', 'Base', 'Criteria', 'Grace_Period',\n",
       "       'Legal_Rent', 'Deposit', 'From', 'To', 'Move_In', 'Move_Out',\n",
       "       'Months_Occupied', 'Last_Renewal', 'Tenant_Status', 'Roommates-Y',\n",
       "       'ACH-Y'],\n",
       "      dtype='object')"
      ]
     },
     "execution_count": 14,
     "metadata": {},
     "output_type": "execute_result"
    }
   ],
   "source": [
    "df_past.columns"
   ]
  },
  {
   "cell_type": "markdown",
   "metadata": {},
   "source": [
    "## Data Cleaning and EDA"
   ]
  },
  {
   "cell_type": "markdown",
   "metadata": {},
   "source": [
    "__We have two type of data.__ \n",
    "\n",
    " - Past tenant data : which pertaining to the tenants who already moved out of their residntial units.\n",
    " - Current tenant data: which pertaining to the tenants who are still living in their residntial units."
   ]
  },
  {
   "cell_type": "code",
   "execution_count": 15,
   "metadata": {},
   "outputs": [
    {
     "data": {
      "text/plain": [
       "Unit                 0\n",
       "TCode                0\n",
       "Rent                 0\n",
       "Base                 5\n",
       "Criteria             0\n",
       "Grace_Period         0\n",
       "Legal_Rent          56\n",
       "Deposit             54\n",
       "From                 0\n",
       "To                  26\n",
       "Move_In              0\n",
       "Move_Out            11\n",
       "Months_Occupied      0\n",
       "Last_Renewal       797\n",
       "Tenant_Status        0\n",
       "Roommates-Y          0\n",
       "ACH-Y                0\n",
       "dtype: int64"
      ]
     },
     "execution_count": 15,
     "metadata": {},
     "output_type": "execute_result"
    }
   ],
   "source": [
    "df_past.isnull().sum()"
   ]
  },
  {
   "cell_type": "code",
   "execution_count": 16,
   "metadata": {},
   "outputs": [],
   "source": [
    "#df_past = df_past.drop(['Last_Renewal'], axis=1)"
   ]
  },
  {
   "cell_type": "code",
   "execution_count": 17,
   "metadata": {},
   "outputs": [
    {
     "data": {
      "text/plain": [
       "Text(0.5, 1.0, 'Missing Values - Tenant Traffic Data')"
      ]
     },
     "execution_count": 17,
     "metadata": {},
     "output_type": "execute_result"
    },
    {
     "data": {
      "image/png": "[encoded data removed]",
      "text/plain": [
       "<Figure size 1008x432 with 1 Axes>"
      ]
     },
     "metadata": {
      "needs_background": "light"
     },
     "output_type": "display_data"
    }
   ],
   "source": [
    "#Creating a Bar chart for the missing values\n",
    "plt.figure(figsize = (14, 6))\n",
    "df_past.isnull().sum().plot(kind='bar');\n",
    "plt.title('Missing Values - Tenant Traffic Data')"
   ]
  },
  {
   "cell_type": "code",
   "execution_count": 18,
   "metadata": {},
   "outputs": [
    {
     "data": {
      "text/plain": [
       "Unit                object\n",
       "TCode               object\n",
       "Rent                object\n",
       "Base               float64\n",
       "Criteria            object\n",
       "Grace_Period       float64\n",
       "Legal_Rent          object\n",
       "Deposit             object\n",
       "From                object\n",
       "To                  object\n",
       "Move_In             object\n",
       "Move_Out            object\n",
       "Months_Occupied      int64\n",
       "Last_Renewal        object\n",
       "Tenant_Status       object\n",
       "Roommates-Y         object\n",
       "ACH-Y               object\n",
       "dtype: object"
      ]
     },
     "execution_count": 18,
     "metadata": {},
     "output_type": "execute_result"
    }
   ],
   "source": [
    "df_past.dtypes"
   ]
  },
  {
   "cell_type": "code",
   "execution_count": 19,
   "metadata": {},
   "outputs": [],
   "source": [
    "# Correcting the Data types of Date Fields.\n",
    "columns=['From', 'To', 'Move_In', 'Move_Out']\n",
    "for i in columns:\n",
    "    df_past[i]=pd.to_datetime(df_past[i])"
   ]
  },
  {
   "cell_type": "code",
   "execution_count": 20,
   "metadata": {},
   "outputs": [],
   "source": [
    "# Correcting the Data types of Date Fields in combined_df\n",
    "columns=['From', 'To', 'Move_In', 'Move_Out']\n",
    "for i in columns:\n",
    "    combined_df[i]=pd.to_datetime(df_past[i])"
   ]
  },
  {
   "cell_type": "code",
   "execution_count": 21,
   "metadata": {},
   "outputs": [],
   "source": [
    "# Correcting the Data types from string to float in combined_df\n",
    "columns=['Rent', 'Legal_Rent']\n",
    "for i in columns:\n",
    "    combined_df[i]=combined_df[i].str.replace(',', '').astype(float)"
   ]
  },
  {
   "cell_type": "code",
   "execution_count": 22,
   "metadata": {},
   "outputs": [],
   "source": [
    "# Correcting the Data types from string to float in df_past\n",
    "columns=['Rent', 'Legal_Rent']\n",
    "for i in columns:\n",
    "    df_past[i]=df_past[i].str.replace(',', '').astype(float)"
   ]
  },
  {
   "cell_type": "code",
   "execution_count": 23,
   "metadata": {},
   "outputs": [],
   "source": [
    "combined_df.fillna(0, inplace=True)"
   ]
  },
  {
   "cell_type": "code",
   "execution_count": 24,
   "metadata": {},
   "outputs": [
    {
     "data": {
      "text/plain": [
       "Current    2031\n",
       "Past       1019\n",
       "Name: Tenant_Status, dtype: int64"
      ]
     },
     "execution_count": 24,
     "metadata": {},
     "output_type": "execute_result"
    }
   ],
   "source": [
    "combined_df[\"Tenant_Status\"].value_counts()"
   ]
  },
  {
   "cell_type": "code",
   "execution_count": 25,
   "metadata": {},
   "outputs": [],
   "source": [
    "#Mapping if the tenants has Churned (Past)  to binary '1', '0'\n",
    "combined_df['Tenant_Status'] = df_past['Tenant_Status'].map({'Past':1, 'Current':0})"
   ]
  },
  {
   "cell_type": "code",
   "execution_count": 26,
   "metadata": {},
   "outputs": [],
   "source": [
    "combined_df['Deposit'] = combined_df['Deposit'].str.replace('(', '')"
   ]
  },
  {
   "cell_type": "code",
   "execution_count": 27,
   "metadata": {},
   "outputs": [],
   "source": [
    "combined_df['Deposit'] = combined_df['Deposit'].str.replace(')', '')"
   ]
  },
  {
   "cell_type": "code",
   "execution_count": 28,
   "metadata": {},
   "outputs": [],
   "source": [
    "combined_df['Deposit'] = combined_df['Deposit'].str.replace(',', '').astype(float)"
   ]
  },
  {
   "cell_type": "code",
   "execution_count": 29,
   "metadata": {},
   "outputs": [],
   "source": [
    "# # Correcting the Data types of rent Fields.\n",
    "# df_past['Rent'] = df_past['Rent'].str.replace(',', '').astype(float)"
   ]
  },
  {
   "cell_type": "code",
   "execution_count": 30,
   "metadata": {},
   "outputs": [],
   "source": [
    "# df_past['Legal_Rent'] = df_past['Legal_Rent'].str.replace(',', '').astype(float)"
   ]
  },
  {
   "cell_type": "code",
   "execution_count": 31,
   "metadata": {},
   "outputs": [],
   "source": [
    "df_past['Deposit'] = df_past['Deposit'].str.replace('(', '')"
   ]
  },
  {
   "cell_type": "code",
   "execution_count": 32,
   "metadata": {},
   "outputs": [],
   "source": [
    "df_past['Deposit'] = df_past['Deposit'].str.replace(')', '')"
   ]
  },
  {
   "cell_type": "code",
   "execution_count": 33,
   "metadata": {},
   "outputs": [],
   "source": [
    "df_past['Deposit'] = df_past['Deposit'].str.replace(',', '').astype(float)"
   ]
  },
  {
   "cell_type": "code",
   "execution_count": 34,
   "metadata": {},
   "outputs": [],
   "source": [
    "# removing white spaces in the object type fields\n",
    "df_past = df_past.apply(lambda x: x.str.strip() if x.dtype == \"object\" else x)"
   ]
  },
  {
   "cell_type": "code",
   "execution_count": 35,
   "metadata": {},
   "outputs": [],
   "source": [
    "#Mapping the ACH tenants (string) to binary '1', '0'\n",
    "df_past['ACH-Y'] = df_past['ACH-Y'].map({'Y': 1, 'N': 0})"
   ]
  },
  {
   "cell_type": "code",
   "execution_count": 36,
   "metadata": {},
   "outputs": [],
   "source": [
    "#Mapping if the tenants has roomates (string) to binary '1', '0'\n",
    "df_past['Roommates-Y'] = df_past['Roommates-Y'].map({'Y':1, 'N':0})"
   ]
  },
  {
   "cell_type": "code",
   "execution_count": 37,
   "metadata": {},
   "outputs": [
    {
     "data": {
      "text/plain": [
       "2031"
      ]
     },
     "execution_count": 37,
     "metadata": {},
     "output_type": "execute_result"
    }
   ],
   "source": [
    "combined_df['Tenant_Status'].isnull().sum()"
   ]
  },
  {
   "cell_type": "code",
   "execution_count": 38,
   "metadata": {},
   "outputs": [],
   "source": [
    "#Mapping the ACH tenants (string) to binary '1', '0'\n",
    "combined_df['ACH-Y'] = combined_df['ACH-Y'].map({'Y': 1, 'N': 0})"
   ]
  },
  {
   "cell_type": "code",
   "execution_count": 39,
   "metadata": {},
   "outputs": [],
   "source": [
    "#Mapping if the tenants has roomates (string) to binary '1', '0'\n",
    "combined_df['Roommates-Y'] = combined_df['Roommates-Y'].map({'Y':1, 'N':0})"
   ]
  },
  {
   "cell_type": "markdown",
   "metadata": {},
   "source": [
    "___Understanding the trend of tenant traffic.___\n"
   ]
  },
  {
   "cell_type": "markdown",
   "metadata": {},
   "source": [
    "__Daywise Move out traffic__"
   ]
  },
  {
   "cell_type": "code",
   "execution_count": 40,
   "metadata": {},
   "outputs": [
    {
     "data": {
      "text/plain": [
       "array([ 5.,  1.,  4.,  2.,  3.,  0., nan,  6.])"
      ]
     },
     "execution_count": 40,
     "metadata": {},
     "output_type": "execute_result"
    }
   ],
   "source": [
    "df_past['Moveout_day'] = df_past['Move_Out'].dt.dayofweek\n",
    "df_past['Moveout_day'].unique()"
   ]
  },
  {
   "cell_type": "code",
   "execution_count": 41,
   "metadata": {},
   "outputs": [
    {
     "data": {
      "text/plain": [
       "array(['Friday', 'Monday', 'Thursday', 'Tuesday', 'Wednesday', nan,\n",
       "       'Saturday'], dtype=object)"
      ]
     },
     "execution_count": 41,
     "metadata": {},
     "output_type": "execute_result"
    }
   ],
   "source": [
    "# assigning key value to the weekdays from Monday thru Friday using .map method.\n",
    "df_past['weekday'] = df_past['Moveout_day'].map({1.: 'Monday', \n",
    "                               2.: 'Tuesday',\n",
    "                               3.: 'Wednesday',\n",
    "                               4.: 'Thursday',\n",
    "                               5.: 'Friday',\n",
    "                               6.: 'Saturday',\n",
    "                               7.: 'Sunday'\n",
    "                               })\n",
    "df_past['weekday'].unique()"
   ]
  },
  {
   "cell_type": "code",
   "execution_count": 42,
   "metadata": {},
   "outputs": [
    {
     "data": {
      "text/plain": [
       "Monday       177\n",
       "Thursday     175\n",
       "Tuesday      171\n",
       "Wednesday    153\n",
       "Friday        98\n",
       "Saturday      45\n",
       "Name: weekday, dtype: int64"
      ]
     },
     "execution_count": 42,
     "metadata": {},
     "output_type": "execute_result"
    }
   ],
   "source": [
    "df_past['weekday'].value_counts()"
   ]
  },
  {
   "cell_type": "code",
   "execution_count": 43,
   "metadata": {},
   "outputs": [
    {
     "data": {
      "image/png": "[encoded data removed]",
      "text/plain": [
       "<Figure size 720x432 with 1 Axes>"
      ]
     },
     "metadata": {
      "needs_background": "light"
     },
     "output_type": "display_data"
    }
   ],
   "source": [
    "#Move Out traffic - Day wise\n",
    "plt.figure(figsize=(10,6))\n",
    "sns.set_style('darkgrid')\n",
    "plt.title('Move Out traffic  - Daywise')\n",
    "sns.countplot(data=df_past,\n",
    "              y='weekday', \n",
    "              order = df_past['weekday'].value_counts().index,\n",
    "              palette=\"GnBu_r\");"
   ]
  },
  {
   "cell_type": "markdown",
   "metadata": {},
   "source": [
    "__Monthwise Move out traffic__"
   ]
  },
  {
   "cell_type": "code",
   "execution_count": 44,
   "metadata": {},
   "outputs": [
    {
     "data": {
      "text/plain": [
       "array([12.,  3.,  5.,  8., 11., 10.,  1.,  4.,  7.,  2.,  6.,  9., nan])"
      ]
     },
     "execution_count": 44,
     "metadata": {},
     "output_type": "execute_result"
    }
   ],
   "source": [
    "df_past['Moveout_month'] = df_past['Move_Out'].dt.month\n",
    "df_past['Moveout_month'].unique()"
   ]
  },
  {
   "cell_type": "code",
   "execution_count": 45,
   "metadata": {},
   "outputs": [
    {
     "data": {
      "text/plain": [
       "array(['Dec', 'Mar', 'May', 'Aug', 'Nov', 'Oct', 'Jan', 'Apr', 'Jul',\n",
       "       'Feb', 'Jun', 'Sep', nan], dtype=object)"
      ]
     },
     "execution_count": 45,
     "metadata": {},
     "output_type": "execute_result"
    }
   ],
   "source": [
    "# assigning key value to the weekdays from Monday thru Friday using .map method.\n",
    "df_past['year_month'] = df_past['Moveout_month'].map({1.: 'Jan', \n",
    "                               2.: 'Feb',\n",
    "                               3.: 'Mar',\n",
    "                               4.: 'Apr',\n",
    "                               5.: 'May',\n",
    "                               6.: 'Jun',\n",
    "                               7.: 'Jul',\n",
    "                               8.: 'Aug',\n",
    "                               9.: 'Sep',\n",
    "                               10.: 'Oct',\n",
    "                               11.: 'Nov',\n",
    "                               12.: 'Dec'\n",
    "\n",
    "                               })\n",
    "df_past['year_month'].unique()"
   ]
  },
  {
   "cell_type": "code",
   "execution_count": 46,
   "metadata": {},
   "outputs": [
    {
     "data": {
      "image/png": "[encoded data removed]",
      "text/plain": [
       "<Figure size 720x432 with 1 Axes>"
      ]
     },
     "metadata": {},
     "output_type": "display_data"
    }
   ],
   "source": [
    "#Move Out traffic - Month wise\n",
    "plt.figure(figsize=(10,6))\n",
    "sns.set_style('darkgrid')\n",
    "plt.title('Move Out traffic  - Monthwise')\n",
    "sns.countplot(data=df_past,\n",
    "              y='year_month', \n",
    "              order = df_past['year_month'].value_counts().index,\n",
    "              palette=\"BuPu_r\");"
   ]
  },
  {
   "cell_type": "code",
   "execution_count": 47,
   "metadata": {},
   "outputs": [],
   "source": [
    "filtered_df = df_past[df_past['Move_Out'].notnull()]"
   ]
  },
  {
   "cell_type": "code",
   "execution_count": 48,
   "metadata": {},
   "outputs": [],
   "source": [
    "filtered_df.dropna(inplace=True)"
   ]
  },
  {
   "cell_type": "markdown",
   "metadata": {},
   "source": [
    "__Preprocessing__"
   ]
  },
  {
   "cell_type": "code",
   "execution_count": 49,
   "metadata": {},
   "outputs": [],
   "source": [
    "# Train test split\n",
    "X = filtered_df[['Rent', 'Legal_Rent', 'Roommates-Y', 'Deposit']]\n",
    "y = filtered_df['Months_Occupied']"
   ]
  },
  {
   "cell_type": "code",
   "execution_count": 50,
   "metadata": {},
   "outputs": [
    {
     "data": {
      "text/html": [
       "<div>\n",
       "<style scoped>\n",
       "    .dataframe tbody tr th:only-of-type {\n",
       "        vertical-align: middle;\n",
       "    }\n",
       "\n",
       "    .dataframe tbody tr th {\n",
       "        vertical-align: top;\n",
       "    }\n",
       "\n",
       "    .dataframe thead th {\n",
       "        text-align: right;\n",
       "    }\n",
       "</style>\n",
       "<table border=\"1\" class=\"dataframe\">\n",
       "  <thead>\n",
       "    <tr style=\"text-align: right;\">\n",
       "      <th></th>\n",
       "      <th>Unit</th>\n",
       "      <th>TCode</th>\n",
       "      <th>Rent</th>\n",
       "      <th>Base</th>\n",
       "      <th>Criteria</th>\n",
       "      <th>Grace_Period</th>\n",
       "      <th>Legal_Rent</th>\n",
       "      <th>Deposit</th>\n",
       "      <th>From</th>\n",
       "      <th>To</th>\n",
       "      <th>...</th>\n",
       "      <th>Move_Out</th>\n",
       "      <th>Months_Occupied</th>\n",
       "      <th>Last_Renewal</th>\n",
       "      <th>Tenant_Status</th>\n",
       "      <th>Roommates-Y</th>\n",
       "      <th>ACH-Y</th>\n",
       "      <th>Moveout_day</th>\n",
       "      <th>weekday</th>\n",
       "      <th>Moveout_month</th>\n",
       "      <th>year_month</th>\n",
       "    </tr>\n",
       "  </thead>\n",
       "  <tbody>\n",
       "    <tr>\n",
       "      <th>12</th>\n",
       "      <td>1-2F</td>\n",
       "      <td>t0008667</td>\n",
       "      <td>1815.0</td>\n",
       "      <td>5.0</td>\n",
       "      <td>% Monthly Rent</td>\n",
       "      <td>5.0</td>\n",
       "      <td>3893.10</td>\n",
       "      <td>2549.00</td>\n",
       "      <td>2018-05-01</td>\n",
       "      <td>2020-04-30</td>\n",
       "      <td>...</td>\n",
       "      <td>2018-05-01</td>\n",
       "      <td>24</td>\n",
       "      <td>04/09/18</td>\n",
       "      <td>Past</td>\n",
       "      <td>1</td>\n",
       "      <td>0</td>\n",
       "      <td>1.0</td>\n",
       "      <td>Monday</td>\n",
       "      <td>5.0</td>\n",
       "      <td>May</td>\n",
       "    </tr>\n",
       "    <tr>\n",
       "      <th>21</th>\n",
       "      <td>1-4C</td>\n",
       "      <td>t0008216</td>\n",
       "      <td>1889.0</td>\n",
       "      <td>5.0</td>\n",
       "      <td>% Monthly Rent</td>\n",
       "      <td>5.0</td>\n",
       "      <td>5381.15</td>\n",
       "      <td>0.00</td>\n",
       "      <td>2018-04-01</td>\n",
       "      <td>2020-03-31</td>\n",
       "      <td>...</td>\n",
       "      <td>2018-08-31</td>\n",
       "      <td>30</td>\n",
       "      <td>03/23/18</td>\n",
       "      <td>Past</td>\n",
       "      <td>1</td>\n",
       "      <td>0</td>\n",
       "      <td>4.0</td>\n",
       "      <td>Thursday</td>\n",
       "      <td>8.0</td>\n",
       "      <td>Aug</td>\n",
       "    </tr>\n",
       "    <tr>\n",
       "      <th>31</th>\n",
       "      <td>1-5D</td>\n",
       "      <td>t0009998</td>\n",
       "      <td>1499.0</td>\n",
       "      <td>50.0</td>\n",
       "      <td>Flat Amount</td>\n",
       "      <td>5.0</td>\n",
       "      <td>2100.07</td>\n",
       "      <td>2069.03</td>\n",
       "      <td>2018-11-01</td>\n",
       "      <td>2019-10-31</td>\n",
       "      <td>...</td>\n",
       "      <td>2019-10-05</td>\n",
       "      <td>36</td>\n",
       "      <td>10/08/18</td>\n",
       "      <td>Past</td>\n",
       "      <td>1</td>\n",
       "      <td>0</td>\n",
       "      <td>5.0</td>\n",
       "      <td>Friday</td>\n",
       "      <td>10.0</td>\n",
       "      <td>Oct</td>\n",
       "    </tr>\n",
       "    <tr>\n",
       "      <th>47</th>\n",
       "      <td>1-L1</td>\n",
       "      <td>t0008198</td>\n",
       "      <td>1575.0</td>\n",
       "      <td>5.0</td>\n",
       "      <td>% Owed-month</td>\n",
       "      <td>5.0</td>\n",
       "      <td>2560.93</td>\n",
       "      <td>0.00</td>\n",
       "      <td>2018-05-01</td>\n",
       "      <td>2019-04-30</td>\n",
       "      <td>...</td>\n",
       "      <td>2019-04-30</td>\n",
       "      <td>37</td>\n",
       "      <td>04/16/18</td>\n",
       "      <td>Past</td>\n",
       "      <td>1</td>\n",
       "      <td>0</td>\n",
       "      <td>1.0</td>\n",
       "      <td>Monday</td>\n",
       "      <td>4.0</td>\n",
       "      <td>Apr</td>\n",
       "    </tr>\n",
       "    <tr>\n",
       "      <th>74</th>\n",
       "      <td>4-1R</td>\n",
       "      <td>t0005773</td>\n",
       "      <td>960.0</td>\n",
       "      <td>0.0</td>\n",
       "      <td>% Owed-month</td>\n",
       "      <td>0.0</td>\n",
       "      <td>2842.13</td>\n",
       "      <td>1454.00</td>\n",
       "      <td>2016-02-01</td>\n",
       "      <td>2017-01-31</td>\n",
       "      <td>...</td>\n",
       "      <td>2016-03-31</td>\n",
       "      <td>15</td>\n",
       "      <td>01/14/16</td>\n",
       "      <td>Past</td>\n",
       "      <td>0</td>\n",
       "      <td>0</td>\n",
       "      <td>3.0</td>\n",
       "      <td>Wednesday</td>\n",
       "      <td>3.0</td>\n",
       "      <td>Mar</td>\n",
       "    </tr>\n",
       "  </tbody>\n",
       "</table>\n",
       "<p>5 rows × 21 columns</p>\n",
       "</div>"
      ],
      "text/plain": [
       "    Unit     TCode    Rent  Base        Criteria  Grace_Period  Legal_Rent  \\\n",
       "12  1-2F  t0008667  1815.0   5.0  % Monthly Rent           5.0     3893.10   \n",
       "21  1-4C  t0008216  1889.0   5.0  % Monthly Rent           5.0     5381.15   \n",
       "31  1-5D  t0009998  1499.0  50.0     Flat Amount           5.0     2100.07   \n",
       "47  1-L1  t0008198  1575.0   5.0    % Owed-month           5.0     2560.93   \n",
       "74  4-1R  t0005773   960.0   0.0    % Owed-month           0.0     2842.13   \n",
       "\n",
       "    Deposit       From         To  ...   Move_Out Months_Occupied  \\\n",
       "12  2549.00 2018-05-01 2020-04-30  ... 2018-05-01              24   \n",
       "21     0.00 2018-04-01 2020-03-31  ... 2018-08-31              30   \n",
       "31  2069.03 2018-11-01 2019-10-31  ... 2019-10-05              36   \n",
       "47     0.00 2018-05-01 2019-04-30  ... 2019-04-30              37   \n",
       "74  1454.00 2016-02-01 2017-01-31  ... 2016-03-31              15   \n",
       "\n",
       "    Last_Renewal Tenant_Status Roommates-Y  ACH-Y  Moveout_day    weekday  \\\n",
       "12      04/09/18          Past           1      0          1.0     Monday   \n",
       "21      03/23/18          Past           1      0          4.0   Thursday   \n",
       "31      10/08/18          Past           1      0          5.0     Friday   \n",
       "47      04/16/18          Past           1      0          1.0     Monday   \n",
       "74      01/14/16          Past           0      0          3.0  Wednesday   \n",
       "\n",
       "   Moveout_month  year_month  \n",
       "12           5.0         May  \n",
       "21           8.0         Aug  \n",
       "31          10.0         Oct  \n",
       "47           4.0         Apr  \n",
       "74           3.0         Mar  \n",
       "\n",
       "[5 rows x 21 columns]"
      ]
     },
     "execution_count": 50,
     "metadata": {},
     "output_type": "execute_result"
    }
   ],
   "source": [
    "filtered_df.head()"
   ]
  },
  {
   "cell_type": "markdown",
   "metadata": {},
   "source": [
    "## Modeling "
   ]
  },
  {
   "cell_type": "markdown",
   "metadata": {},
   "source": [
    "__Baseline Model__"
   ]
  },
  {
   "cell_type": "code",
   "execution_count": 70,
   "metadata": {},
   "outputs": [],
   "source": [
    "combined_df.fillna(0, inplace=True)"
   ]
  },
  {
   "cell_type": "code",
   "execution_count": 71,
   "metadata": {},
   "outputs": [
    {
     "data": {
      "text/plain": [
       "0.0    0.665902\n",
       "1.0    0.334098\n",
       "Name: Tenant_Status, dtype: float64"
      ]
     },
     "execution_count": 71,
     "metadata": {},
     "output_type": "execute_result"
    }
   ],
   "source": [
    "combined_df['Tenant_Status'].value_counts(normalize = True)"
   ]
  },
  {
   "cell_type": "markdown",
   "metadata": {},
   "source": [
    "### Generalized Linear Mode"
   ]
  },
  {
   "cell_type": "code",
   "execution_count": 52,
   "metadata": {},
   "outputs": [
    {
     "data": {
      "text/html": [
       "<table class=\"simpletable\">\n",
       "<caption>Generalized Linear Model Regression Results</caption>\n",
       "<tr>\n",
       "  <th>Dep. Variable:</th>    <td>Months_Occupied</td> <th>  No. Observations:  </th>  <td>   171</td> \n",
       "</tr>\n",
       "<tr>\n",
       "  <th>Model:</th>                  <td>GLM</td>       <th>  Df Residuals:      </th>  <td>   166</td> \n",
       "</tr>\n",
       "<tr>\n",
       "  <th>Model Family:</th>          <td>Gamma</td>      <th>  Df Model:          </th>  <td>     4</td> \n",
       "</tr>\n",
       "<tr>\n",
       "  <th>Link Function:</th>          <td>log</td>       <th>  Scale:             </th> <td> 0.11667</td>\n",
       "</tr>\n",
       "<tr>\n",
       "  <th>Method:</th>                <td>IRLS</td>       <th>  Log-Likelihood:    </th> <td> -647.66</td>\n",
       "</tr>\n",
       "<tr>\n",
       "  <th>Date:</th>            <td>Wed, 04 Mar 2020</td> <th>  Deviance:          </th> <td>  21.272</td>\n",
       "</tr>\n",
       "<tr>\n",
       "  <th>Time:</th>                <td>08:57:17</td>     <th>  Pearson chi2:      </th>  <td>  19.4</td> \n",
       "</tr>\n",
       "<tr>\n",
       "  <th>No. Iterations:</th>         <td>12</td>        <th>                     </th>     <td> </td>   \n",
       "</tr>\n",
       "<tr>\n",
       "  <th>Covariance Type:</th>     <td>nonrobust</td>    <th>                     </th>     <td> </td>   \n",
       "</tr>\n",
       "</table>\n",
       "<table class=\"simpletable\">\n",
       "<tr>\n",
       "       <td></td>          <th>coef</th>     <th>std err</th>      <th>z</th>      <th>P>|z|</th>  <th>[0.025</th>    <th>0.975]</th>  \n",
       "</tr>\n",
       "<tr>\n",
       "  <th>const</th>       <td>    3.2776</td> <td>    0.085</td> <td>   38.498</td> <td> 0.000</td> <td>    3.111</td> <td>    3.444</td>\n",
       "</tr>\n",
       "<tr>\n",
       "  <th>Rent</th>        <td>    0.0002</td> <td>  5.2e-05</td> <td>    3.395</td> <td> 0.001</td> <td> 7.46e-05</td> <td>    0.000</td>\n",
       "</tr>\n",
       "<tr>\n",
       "  <th>Legal_Rent</th>  <td> -4.69e-05</td> <td> 2.32e-05</td> <td>   -2.019</td> <td> 0.043</td> <td>-9.24e-05</td> <td>-1.38e-06</td>\n",
       "</tr>\n",
       "<tr>\n",
       "  <th>Roommates-Y</th> <td>    0.0954</td> <td>    0.058</td> <td>    1.640</td> <td> 0.101</td> <td>   -0.019</td> <td>    0.209</td>\n",
       "</tr>\n",
       "<tr>\n",
       "  <th>Deposit</th>     <td>-7.373e-06</td> <td> 2.03e-05</td> <td>   -0.364</td> <td> 0.716</td> <td>-4.71e-05</td> <td> 3.24e-05</td>\n",
       "</tr>\n",
       "</table>"
      ],
      "text/plain": [
       "<class 'statsmodels.iolib.summary.Summary'>\n",
       "\"\"\"\n",
       "                 Generalized Linear Model Regression Results                  \n",
       "==============================================================================\n",
       "Dep. Variable:        Months_Occupied   No. Observations:                  171\n",
       "Model:                            GLM   Df Residuals:                      166\n",
       "Model Family:                   Gamma   Df Model:                            4\n",
       "Link Function:                    log   Scale:                         0.11667\n",
       "Method:                          IRLS   Log-Likelihood:                -647.66\n",
       "Date:                Wed, 04 Mar 2020   Deviance:                       21.272\n",
       "Time:                        08:57:17   Pearson chi2:                     19.4\n",
       "No. Iterations:                    12                                         \n",
       "Covariance Type:            nonrobust                                         \n",
       "===============================================================================\n",
       "                  coef    std err          z      P>|z|      [0.025      0.975]\n",
       "-------------------------------------------------------------------------------\n",
       "const           3.2776      0.085     38.498      0.000       3.111       3.444\n",
       "Rent            0.0002    5.2e-05      3.395      0.001    7.46e-05       0.000\n",
       "Legal_Rent   -4.69e-05   2.32e-05     -2.019      0.043   -9.24e-05   -1.38e-06\n",
       "Roommates-Y     0.0954      0.058      1.640      0.101      -0.019       0.209\n",
       "Deposit     -7.373e-06   2.03e-05     -0.364      0.716   -4.71e-05    3.24e-05\n",
       "===============================================================================\n",
       "\"\"\""
      ]
     },
     "execution_count": 52,
     "metadata": {},
     "output_type": "execute_result"
    }
   ],
   "source": [
    "# In the `statsmodels`, y is the first argument and X is the second.\n",
    "\n",
    "# adding y-intercept\n",
    "\n",
    "X = sm.add_constant(X)\n",
    "\n",
    "glm_gamma = sm.GLM(y,\n",
    "                  X,\n",
    "                  family = sm.families.Gamma(link = sm.families.links.log))\n",
    "\n",
    "# Fit\n",
    "fitted_glm_gamma = glm_gamma.fit()\n",
    "\n",
    "\n",
    "# Generating summary of model.\n",
    "fitted_glm_gamma.summary()"
   ]
  },
  {
   "cell_type": "code",
   "execution_count": 53,
   "metadata": {},
   "outputs": [
    {
     "data": {
      "text/plain": [
       "True"
      ]
     },
     "execution_count": 53,
     "metadata": {},
     "output_type": "execute_result"
    }
   ],
   "source": [
    "# checking if model converged\n",
    "fitted_glm_gamma.converged"
   ]
  },
  {
   "cell_type": "code",
   "execution_count": 54,
   "metadata": {},
   "outputs": [],
   "source": [
    "combined_df.fillna(0, inplace=True)"
   ]
  },
  {
   "cell_type": "markdown",
   "metadata": {},
   "source": [
    "__Preprocessing & Classification Modeling__"
   ]
  },
  {
   "cell_type": "code",
   "execution_count": 55,
   "metadata": {},
   "outputs": [],
   "source": [
    "X_cols = ['Rent', 'Base',\n",
    "         'Grace_Period', 'Legal_Rent', 'Deposit', \n",
    "         'Roommates-Y', 'ACH-Y']\n",
    "\n",
    "X = combined_df[X_cols]\n",
    "y = combined_df['Tenant_Status']\n",
    "\n",
    "X_train, X_test, y_train, y_test = train_test_split(X, y, random_state = 19)"
   ]
  },
  {
   "cell_type": "markdown",
   "metadata": {},
   "source": [
    "### Logistic Regression Model"
   ]
  },
  {
   "cell_type": "code",
   "execution_count": 56,
   "metadata": {},
   "outputs": [
    {
     "name": "stdout",
     "output_type": "stream",
     "text": [
      "Score on training set: 0.9156099693922168\n",
      "Score on testing set: 0.9318479685452162\n",
      "Cross Val Score: 0.9147371080695834\n"
     ]
    }
   ],
   "source": [
    "pipe_log = Pipeline([('sc', StandardScaler()),\n",
    "                ('log', LogisticRegression(solver = 'liblinear'))\n",
    "])\n",
    "params_log = {'sc__with_mean': [True, False], \n",
    "                 'sc__with_std': [True, False],\n",
    "                 'log__C': [1e9, 0.0001, 10]}\n",
    "            \n",
    "gs_log = GridSearchCV(pipe_log, \n",
    "                     params_log,\n",
    "                 cv=5, \n",
    ")\n",
    "\n",
    "log_model = gs_log.fit(X_train, y_train)\n",
    "\n",
    "print(f'Score on training set: {log_model.score(X_train, y_train)}')\n",
    "print(f'Score on testing set: {log_model.score(X_test, y_test)}')\n",
    "print(f'Cross Val Score: {cross_val_score(log_model, X_train, y_train, cv=5).mean()}')"
   ]
  },
  {
   "cell_type": "markdown",
   "metadata": {},
   "source": [
    "__Logistic Regression Model Score Intrepretation__\n",
    "\n",
    "**The above Regression Model has accuracy of 0.91 for my training set and has accuracy 0.93 for my testing set. This model performs same as my baseline model score of 0.67**"
   ]
  },
  {
   "cell_type": "markdown",
   "metadata": {},
   "source": [
    "### KNN Model"
   ]
  },
  {
   "cell_type": "code",
   "execution_count": 57,
   "metadata": {},
   "outputs": [
    {
     "name": "stdout",
     "output_type": "stream",
     "text": [
      "Score on training set: 0.9916921731526016\n",
      "Score on testing set: 0.9554390563564875\n",
      "Cross Val Score: 0.9462202581008089\n"
     ]
    }
   ],
   "source": [
    "pipe_kn1 = Pipeline([('sc', StandardScaler()),\n",
    "    ('kn', KNeighborsClassifier())\n",
    "])\n",
    "params_kn1 = {'sc__with_mean': [True, False], \n",
    "                 'sc__with_std': [True, False],\n",
    "                 'kn__p': [1, 2], \n",
    "                 'kn__weights': ['uniform', 'distance'],\n",
    "                 'kn__n_neighbors': [3, 5, 10]}\n",
    "                 \n",
    "gs_kn1 = GridSearchCV(pipe_kn1, \n",
    "                     params_kn1,\n",
    "                 cv=5, \n",
    ")\n",
    "\n",
    "kn1_model = gs_kn1.fit(X_train, y_train)\n",
    "print(f'Score on training set: {kn1_model.score(X_train, y_train)}')\n",
    "print(f'Score on testing set: {kn1_model.score(X_test, y_test)}')\n",
    "print(f'Cross Val Score: {cross_val_score(kn1_model, X_train, y_train, cv=5).mean()}')"
   ]
  },
  {
   "cell_type": "markdown",
   "metadata": {},
   "source": [
    "__KNN Model Score Intrepretation__\n",
    "\n",
    "**The above KNN Model has accuracy of 0.99 for my training set and has accuracy 0.95 for my testing set. This model performs same as my baseline model score of 0.67**"
   ]
  },
  {
   "cell_type": "markdown",
   "metadata": {},
   "source": [
    "### Extra trees model"
   ]
  },
  {
   "cell_type": "code",
   "execution_count": 58,
   "metadata": {},
   "outputs": [
    {
     "name": "stdout",
     "output_type": "stream",
     "text": [
      "Score on training set: 0.9916921731526016\n",
      "Score on testing set: 0.9475753604193972\n"
     ]
    }
   ],
   "source": [
    "pipe_et1 = Pipeline([('sc', StandardScaler()),\n",
    "        ('et',ExtraTreesClassifier())\n",
    "])\n",
    "params_et1= {'sc__with_mean': [True, False], \n",
    "                 'sc__with_std': [True, False],\n",
    "                  'et__n_estimators': [100, 150, 200],\n",
    "            'et__max_depth': [None, 1, 2, 3, 4, 5], }\n",
    "                 \n",
    "gs_et1 = GridSearchCV(pipe_et1,\n",
    "                        param_grid=params_et1,\n",
    "                        cv=5,\n",
    "                        scoring='accuracy',\n",
    "                        n_jobs=-2)\n",
    "\n",
    "\n",
    "\n",
    "et1_model = gs_et1.fit(X_train, y_train)\n",
    "# Evaluate model.\n",
    "print(f'Score on training set: {et1_model.score(X_train, y_train)}')\n",
    "print(f'Score on testing set: {et1_model.score(X_test, y_test)}')"
   ]
  },
  {
   "cell_type": "code",
   "execution_count": 59,
   "metadata": {},
   "outputs": [
    {
     "data": {
      "text/plain": [
       "GridSearchCV(cv=5, error_score='raise-deprecating',\n",
       "             estimator=Pipeline(memory=None,\n",
       "                                steps=[('extra_trees',\n",
       "                                        ExtraTreesClassifier(bootstrap=False,\n",
       "                                                             class_weight=None,\n",
       "                                                             criterion='gini',\n",
       "                                                             max_depth=None,\n",
       "                                                             max_features='auto',\n",
       "                                                             max_leaf_nodes=None,\n",
       "                                                             min_impurity_decrease=0.0,\n",
       "                                                             min_impurity_split=None,\n",
       "                                                             min_samples_leaf=1,\n",
       "                                                             min_samples_split=2,\n",
       "                                                             min_weight_fraction_leaf=0.0,\n",
       "                                                             n_estimators='warn',\n",
       "                                                             n_jobs=None,\n",
       "                                                             oob_score=False,\n",
       "                                                             random_state=None,\n",
       "                                                             verbose=0,\n",
       "                                                             warm_start=False))],\n",
       "                                verbose=False),\n",
       "             iid='warn', n_jobs=-2,\n",
       "             param_grid={'extra_trees__n_estimators': [300, 400, 500, 600]},\n",
       "             pre_dispatch='2*n_jobs', refit=True, return_train_score=False,\n",
       "             scoring='accuracy', verbose=0)"
      ]
     },
     "execution_count": 59,
     "metadata": {},
     "output_type": "execute_result"
    }
   ],
   "source": [
    "pipe = Pipeline(steps=[('extra_trees', ExtraTreesClassifier())])\n",
    "\n",
    "params = {'extra_trees__n_estimators': [300, 400, 500, 600]}\n",
    "gs_extra_trees = GridSearchCV(pipe,\n",
    "                              param_grid=params,\n",
    "                              cv=5,\n",
    "                              scoring='accuracy',\n",
    "                              n_jobs=-2)\n",
    "gs_extra_trees.fit(X_train, y_train)"
   ]
  },
  {
   "cell_type": "code",
   "execution_count": 60,
   "metadata": {},
   "outputs": [
    {
     "name": "stdout",
     "output_type": "stream",
     "text": [
      "Score on training set: 0.9916921731526016\n",
      "Score on testing set: 0.9475753604193972\n"
     ]
    }
   ],
   "source": [
    "# Evaluate model.\n",
    "print(f'Score on training set: {gs_extra_trees.score(X_train, y_train)}')\n",
    "print(f'Score on testing set: {gs_extra_trees.score(X_test, y_test)}')"
   ]
  },
  {
   "cell_type": "markdown",
   "metadata": {},
   "source": [
    "__Extra trees Score Intrepretation__\n",
    "\n",
    "**The above Extra Trees model has accuracy of 0.99 for my training set and has accuracy 0.95 for my testing set. This model performs same as my baseline model score of 0.67**"
   ]
  },
  {
   "cell_type": "markdown",
   "metadata": {},
   "source": [
    "# Model Selection and Evaluation "
   ]
  },
  {
   "cell_type": "markdown",
   "metadata": {},
   "source": [
    "**Model performance at a glance :**\n",
    "\n",
    "**Baseline score = 0.67**\n",
    "\n",
    "| Sl. No     | Classifier | Train Score | Test Score |\n",
    "|------------|------------|-------------|------------|\n",
    "|  1         | LogisticReg| 0.91        | 0.93       |\n",
    "|  2         | KNN Model  | 0.99        | 0.96       |\n",
    "|  3         | Rnd. Frst  | 0.00        | 0.00       |\n",
    "|  4         | Extra Tree | 0.94        | 0.95       |\n",
    "|  5         | Ada Boost  | 0.00        | 0.00       |\n",
    "|  6         | Gradnt.Bst.| 0.00        | 0.00       |\n",
    "|  5         | Votingclsfr| 0.00        | 0.00       |\n",
    "\n",
    "KNN model produced 0.99 accuracy score - better than other machine models."
   ]
  },
  {
   "cell_type": "code",
   "execution_count": 61,
   "metadata": {},
   "outputs": [],
   "source": [
    "def c_confusion_matrix(y_true, y_pred):\n",
    "    # handling data\n",
    "    cm = confusion_matrix(y_true, y_pred)\n",
    "    labels = y_true.unique()\n",
    "    labels.sort()\n",
    "    \n",
    "    # plotting\n",
    "    sns.set(font_scale=1.2)\n",
    "    plt.figure(figsize=(10,4))\n",
    "    \n",
    "   \n",
    "    \n",
    "    sns.heatmap(cm, annot=True, fmt='g', cmap=\"BuPu\",xticklabels=labels, yticklabels=labels)\n",
    "    plt.title(\"Confusion Matrix\")\n",
    "    plt.xlabel('Predicted Churned Tenants')\n",
    "    plt.ylabel('True Churned Tenants')\n",
    "    \n",
    "    b, t = plt.ylim()\n",
    "    b += 0.8\n",
    "    t -= 0.8\n",
    "    plt.ylim(b, t)\n",
    "    "
   ]
  },
  {
   "cell_type": "markdown",
   "metadata": {},
   "source": [
    "## Confusion Matrix"
   ]
  },
  {
   "cell_type": "code",
   "execution_count": 62,
   "metadata": {},
   "outputs": [
    {
     "data": {
      "image/png": "[encoded data removed]",
      "text/plain": [
       "<Figure size 720x288 with 2 Axes>"
      ]
     },
     "metadata": {},
     "output_type": "display_data"
    }
   ],
   "source": [
    "preds = kn1_model.predict(X_test)\n",
    "c_confusion_matrix(y_test, preds)"
   ]
  },
  {
   "cell_type": "markdown",
   "metadata": {},
   "source": [
    " - The \"1\" which is 'Churned Tenant' category is predicted correctly => True positive score = 485\n",
    " - The \"1\" which is 'Churned Tenant' category is predicted incorrectly => False positive = 19\n",
    " - The \"0\" which is 'Current Tenant' category is predicted correctly => True negative = 244\n",
    " - The \"0\" which is 'Current Tenant' is predicted incorrectly => False positive = 15"
   ]
  },
  {
   "cell_type": "markdown",
   "metadata": {},
   "source": [
    "## ROC AUC Curve"
   ]
  },
  {
   "cell_type": "markdown",
   "metadata": {},
   "source": [
    "Receiver Operating Characteristic (ROC) Curve & Area under the ROC curve\n",
    "\n",
    "I am using Receiver Operating Characteristic curve to visualize the overlap between my positive class and negative class by moving our classification threshold from 0 to 1.\n",
    "\n",
    "I am using the area under the ROC curve (abbreviated ROC AUC or AUC ROC) to quantify the gap between our distributions."
   ]
  },
  {
   "cell_type": "code",
   "execution_count": 63,
   "metadata": {},
   "outputs": [],
   "source": [
    "pred_proba = [i[1] for i in kn1_model.predict_proba(X_test)]\n",
    "pred_df = pd.DataFrame({'true_values': y_test,\n",
    "                        'pred_probs':pred_proba})"
   ]
  },
  {
   "cell_type": "code",
   "execution_count": 64,
   "metadata": {},
   "outputs": [
    {
     "data": {
      "text/plain": [
       "0.9784942965779467"
      ]
     },
     "execution_count": 64,
     "metadata": {},
     "output_type": "execute_result"
    }
   ],
   "source": [
    "from sklearn.metrics import roc_auc_score\n",
    "roc_auc_score(pred_df['true_values'], pred_df['pred_probs'])"
   ]
  },
  {
   "cell_type": "code",
   "execution_count": 65,
   "metadata": {},
   "outputs": [
    {
     "data": {
      "image/png": "[encoded data removed]",
      "text/plain": [
       "<Figure size 720x504 with 1 Axes>"
      ]
     },
     "metadata": {},
     "output_type": "display_data"
    }
   ],
   "source": [
    "# Create figure.\n",
    "plt.figure(figsize = (10,7))\n",
    "# Create threshold values.\n",
    "thresholds = np.linspace(0, 1, 200)\n",
    "# Define function to calculate sensitivity. (True positive rate.)\n",
    "def TPR(df, true_col, pred_prob_col, threshold):\n",
    "    true_positive = df[(df[true_col] == 1) & (df[pred_prob_col] >= threshold)].shape[0]\n",
    "    false_negative = df[(df[true_col] == 1) & (df[pred_prob_col] < threshold)].shape[0]\n",
    "    return true_positive / (true_positive + false_negative)\n",
    "# Define function to calculate 1 - specificity. (False positive rate.)\n",
    "def FPR(df, true_col, pred_prob_col, threshold):\n",
    "    true_negative = df[(df[true_col] == 0) & (df[pred_prob_col] <= threshold)].shape[0]\n",
    "    false_positive = df[(df[true_col] == 0) & (df[pred_prob_col] > threshold)].shape[0]\n",
    "    return 1 - (true_negative / (true_negative + false_positive))\n",
    "# Calculate sensitivity & 1-specificity for each threshold between 0 and 1.\n",
    "tpr_values = [TPR(pred_df, 'true_values', 'pred_probs', prob) for prob in thresholds]\n",
    "fpr_values = [FPR(pred_df, 'true_values', 'pred_probs', prob) for prob in thresholds]\n",
    "# Plot ROC curve.\n",
    "plt.plot(fpr_values, # False Positive Rate on X-axis\n",
    "         tpr_values, # True Positive Rate on Y-axis\n",
    "         label='ROC Curve')\n",
    "# Plot baseline. (Perfect overlap between the two populations.)\n",
    "plt.plot(np.linspace(0, 1, 200),\n",
    "         np.linspace(0, 1, 200),\n",
    "         label='baseline',\n",
    "         linestyle='--')\n",
    "# Label axes.\n",
    "plt.title(f'Tenants Churned Vs Current -  ROC Curve with AUC = {round(roc_auc_score(pred_df[\"true_values\"], pred_df[\"pred_probs\"]),3)}', fontsize=18)\n",
    "plt.ylabel('Sensitivity', fontsize=18)\n",
    "plt.xlabel('1 - Specificity', fontsize=18)\n",
    "# Create legend.\n",
    "plt.legend(fontsize=16);"
   ]
  },
  {
   "cell_type": "markdown",
   "metadata": {},
   "source": [
    "## Feature Importance"
   ]
  },
  {
   "cell_type": "code",
   "execution_count": 66,
   "metadata": {},
   "outputs": [
    {
     "data": {
      "text/plain": [
       "Pipeline(memory=None,\n",
       "         steps=[('extra_trees',\n",
       "                 ExtraTreesClassifier(bootstrap=False, class_weight=None,\n",
       "                                      criterion='gini', max_depth=None,\n",
       "                                      max_features='auto', max_leaf_nodes=None,\n",
       "                                      min_impurity_decrease=0.0,\n",
       "                                      min_impurity_split=None,\n",
       "                                      min_samples_leaf=1, min_samples_split=2,\n",
       "                                      min_weight_fraction_leaf=0.0,\n",
       "                                      n_estimators=500, n_jobs=None,\n",
       "                                      oob_score=False, random_state=None,\n",
       "                                      verbose=0, warm_start=False))],\n",
       "         verbose=False)"
      ]
     },
     "execution_count": 66,
     "metadata": {},
     "output_type": "execute_result"
    }
   ],
   "source": [
    "# Best Estimator for GridSearch\n",
    "gs_extra_trees.best_estimator_"
   ]
  },
  {
   "cell_type": "code",
   "execution_count": 69,
   "metadata": {
    "scrolled": true
   },
   "outputs": [
    {
     "data": {
      "image/png": "[encoded data removed]",
      "text/plain": [
       "<Figure size 576x360 with 1 Axes>"
      ]
     },
     "metadata": {},
     "output_type": "display_data"
    }
   ],
   "source": [
    "# getting the feature importances crom the model\n",
    "feats =gs_extra_trees.best_estimator_.steps[0][1].feature_importances_\n",
    "# getting keys of the test set\n",
    "keys = X_test.keys()\n",
    "# zipping the keys and feature importances\n",
    "feat_import = pd.DataFrame(list(zip(keys, feats)),\n",
    "                           columns=['feature', 'importance'])\n",
    "# sorting the dataframe by importance\n",
    "feat_import = feat_import.sort_values(by='importance', ascending=False)\n",
    "\n",
    "# plotting importance\n",
    "plt.figure(figsize=(8, 5))\n",
    "plt.title('Feature Importance', fontsize=25)\n",
    "sns.set_style(\"darkgrid\")\n",
    "sns.barplot(data=feat_import,\n",
    "            x='importance',\n",
    "            y='feature',\n",
    "            orient='h',\n",
    "            palette=\"BuPu\")\n",
    "plt.xlabel('importance', fontsize=15)\n",
    "plt.ylabel('feature', fontsize=15)\n",
    "plt.tick_params(labelsize=15)"
   ]
  },
  {
   "cell_type": "code",
   "execution_count": null,
   "metadata": {},
   "outputs": [],
   "source": []
  },
  {
   "cell_type": "code",
   "execution_count": null,
   "metadata": {},
   "outputs": [],
   "source": []
  }
 ],
 "metadata": {
  "kernelspec": {
   "display_name": "Python 3",
   "language": "python",
   "name": "python3"
  },
  "language_info": {
   "codemirror_mode": {
    "name": "ipython",
    "version": 3
   },
   "file_extension": ".py",
   "mimetype": "text/x-python",
   "name": "python",
   "nbconvert_exporter": "python",
   "pygments_lexer": "ipython3",
   "version": "3.7.3"
  },
  "toc": {
   "base_numbering": 1,
   "nav_menu": {},
   "number_sections": true,
   "sideBar": true,
   "skip_h1_title": false,
   "title_cell": "Table of Contents",
   "title_sidebar": "Contents",
   "toc_cell": false,
   "toc_position": {},
   "toc_section_display": true,
   "toc_window_display": true
  }
 },
 "nbformat": 4,
 "nbformat_minor": 2
}
